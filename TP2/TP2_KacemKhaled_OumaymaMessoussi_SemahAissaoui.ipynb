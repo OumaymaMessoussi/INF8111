{
  "nbformat": 4,
  "nbformat_minor": 0,
  "metadata": {
    "colab": {
      "name": "TP2_KacemKhaled_OumaymaMessoussi_SemahAissaoui.ipynb",
      "provenance": [],
      "collapsed_sections": [],
      "toc_visible": true
    },
    "kernelspec": {
      "display_name": "PySpark",
      "language": "python",
      "name": "pyspark"
    },
    "language_info": {
      "codemirror_mode": {
        "name": "ipython",
        "version": 3
      },
      "file_extension": ".py",
      "mimetype": "text/x-python",
      "name": "python",
      "nbconvert_exporter": "python",
      "pygments_lexer": "ipython3",
      "version": "3.7.4"
    }
  },
  "cells": [
    {
      "cell_type": "markdown",
      "metadata": {
        "colab_type": "text",
        "id": "r02mfwtj8q14"
      },
      "source": [
        "# TP2 - Market Basket Analysis \n",
        "INF8111 - Fouille de données, Summer 2020\n",
        "### Team Components\n",
        "    - Kacem Khaled \n",
        "    - Oumayma Messoussi\n",
        "    - Semah Aissaoui "
      ]
    },
    {
      "cell_type": "markdown",
      "metadata": {
        "colab_type": "text",
        "id": "hr5BXQys8q16"
      },
      "source": [
        "## Date et directives de remise\n",
        "Vous remettrez ce fichier nommé TP2\\_NomDuMembre1\\_NomDuMembre2\\_NomDuMembre3.ipynb dans la boîte de remise sur moodle. \n",
        "\n",
        "Tout devra être remis avant le **10 juin à 23h55**.\n",
        "\n",
        "## Market Basket Analysis\n",
        "\n",
        "Market Basket Analysis (MBA) is a data mining analytics technique to uncover associations between products or product grouping. By exploring interesting patterns from an extensive collection of data, MBA aims to understand/reveal customer purchase behaviors based upon the theory that if you purchased a certain set of products, then you are more (or less) likely to buy another group of products. In other words, MBA allows retailers to identify the relationship between the items that customers buy, revealing patterns of items often purchased together.\n",
        "\n",
        "A widely used approach to explore these patterns is by constructing ***association rules*** such as\n",
        "- **if** bought *ITEM_1* **then** will buy *ITEM_2* with **confidence** *X*.\n",
        "\n",
        "These associations do not have to be 1-to-1 rules. They can involve many items. For example, a person in a supermarket may add eggs to his/her cart, then an MBA application may suggest that the person will also buy some bread and/or flour: \n",
        "\n",
        "+ **if** bought *EGGS* **then** will buy [*BREAD* with confidence *0.2*; *FLOUR* with confidence 0.05].\n",
        "\n",
        "However, if the person now decides to add flour to his/her cart, the new association rule could be as showing below, suggesting ingredients to make a cake.\n",
        "\n",
        "+ **if** bought [*EGGS, FLOUR*] **then** will buy [*SUGGAR* with confidence 0.45; BAKING POWDER with confidence 0.12; *BREAD* with confidence *0.03*].\n",
        "\n",
        "There are many real scenarios where MBA plays a central role in data analysis, such as supermarket transactions, online orders or credit card history. Marketers may use these association rules to arrange correlated products closer to each other on store shelves or make online suggestions so that customers buy more items. Some questions that an MBA can usually help retailers to answer are:\n",
        "\n",
        "- What items are often purchased together?\n",
        "- Given a basket, what items should be suggested?\n",
        "- How should items be placed together on the shelves?\n",
        "\n",
        "### Objective\n",
        "\n",
        "Your goal in this TP is to develop an MBA algorithm for revealing patterns by creating association rules in a big dataset with more than three million supermarket transactions. However, mining association rules for large datasets is a very computationally intensive problem, which makes it almost impractical to perform it without a distributed system. Hence, to run your algorithm, you will have access to a distributed cloud computing cluster with hundreds of cores. \n",
        "\n",
        "To this end, a **MapReduce** algorithm will be implemented upon the [Apache Spark](http://spark.apache.org) framework, a fast cluster computing system. In a nutshell, Spark is an open source framework designed with a *scale-out* methodology which makes it a very powerful tool for programmers or application developers to perform a massive volume of computations and data processing in distributed environments. Spark provides high-level APIs that make it easy to build parallel apps without needing to worry about how your code and data are parallelized/distributed thought the computing cluster. Spark does it all for you.\n",
        "\n",
        "The implementation will follow the Market Basket Analysis algorithm presented by Jongwook Woo and Yuhang Xu (2012). The image **workflow.svg** Illustrates the algorithm's workflow, and is to be used for consultation throughout this TP. The blue boxes are the ones where you must implement a method to perform a map or reduce function, and the gray boxes represent their expected output. **All these operations are explained in detail in the following sections.** \n",
        "\n",
        "\n",
        "## 1. Setting up Spark\n",
        "\n",
        "Spark runs on both Windows and UNIX-like systems (e.g., Linux, Mac OS). It's easy to run locally on one machine — all you need is to have Java installed on your system PATH, or the JAVA_HOME environment variable pointing to a Java installation. It is mandatory that you have the **JDK v8** installed in your system, as Spark currently only support this version. If you haven't, go to [Java's web page](https://www.oracle.com/technetwork/java/javase/downloads/jdk8-downloads-2133151.html) to download and install a Java Virtual Machine. Remember to set the environment variable JAVA_HOME to use JDK v8 if your installation does not do it automatically for you. \n",
        "\n",
        "The interface between Python and Spark is done through **PySpark**, which can be installed by running `pip install pyspark` or set up following the sequence below:\n",
        "\n",
        "1. First, go to http://spark.apache.org/downloads \n",
        "2. Select the newest Spark release and the Pre-built for Apache Hadoop 2.7 package \n",
        "3. Click for download **spark-2.4.5-bin-hadoop2.7.tgz** and unzip it in any folder of your preference. \n",
        "4. Next, export the following variables to link PYSPARK (Spark's python interface) to your python distribution in your `~/.bash_profile` file.\n",
        "\n",
        "``\n",
        "export SPARK_HOME=/path/to/spark-2.4.5-bin-hadoop2.7\n",
        "export PYTHONPATH=\"$SPARK_HOME/python:$SPARK_HOME/python/lib/py4j-0.10.7-src.zip:$SPARK_HOME/python/lib/pyspark.zip:$PYTHONPATH\"\n",
        "export PYSPARK_PYTHON=/path/to/your/python3\n",
        "``\n",
        "\n",
        "5. Run `source ~./bash_profile` to effectuate the changes and restart this jupyter notebook session.\n",
        "\n",
        "#### Alternative for using Google Collab\n",
        "\n",
        "If you are planning on using Google Colaboratory platform, run the following code cell to set up Spark."
      ]
    },
    {
      "cell_type": "code",
      "metadata": {
        "colab_type": "code",
        "id": "xqBDLHXy8q17",
        "outputId": "dee04c64-5939-49bf-8a75-219471d9aa8b",
        "colab": {
          "base_uri": "https://localhost:8080/",
          "height": 258
        }
      },
      "source": [
        "import os\n",
        "!apt-get install openjdk-8-jdk-headless -qq > /dev/null\n",
        "os.environ[\"JAVA_HOME\"] = \"/usr/lib/jvm/java-8-openjdk-amd64\"\n",
        "!pip install pyspark"
      ],
      "execution_count": 1,
      "outputs": [
        {
          "output_type": "stream",
          "text": [
            "Collecting pyspark\n",
            "\u001b[?25l  Downloading https://files.pythonhosted.org/packages/e9/e4/5c15ab8d354c4e3528510821865e6748209a9b0ff6a1788f4cd36cc2a5dc/pyspark-2.4.6.tar.gz (218.4MB)\n",
            "\u001b[K     |████████████████████████████████| 218.4MB 60kB/s \n",
            "\u001b[?25hCollecting py4j==0.10.7\n",
            "\u001b[?25l  Downloading https://files.pythonhosted.org/packages/e3/53/c737818eb9a7dc32a7cd4f1396e787bd94200c3997c72c1dbe028587bd76/py4j-0.10.7-py2.py3-none-any.whl (197kB)\n",
            "\u001b[K     |████████████████████████████████| 204kB 39.4MB/s \n",
            "\u001b[?25hBuilding wheels for collected packages: pyspark\n",
            "  Building wheel for pyspark (setup.py) ... \u001b[?25l\u001b[?25hdone\n",
            "  Created wheel for pyspark: filename=pyspark-2.4.6-py2.py3-none-any.whl size=218814406 sha256=ea1c682af582e67b5362f9a6bf3c0aeaff6dbec4da196ef836a7b3cfa1ddd830\n",
            "  Stored in directory: /root/.cache/pip/wheels/1e/5e/6a/17e906c94ec7246f260330a66e44a06a0809033ba2738a74a8\n",
            "Successfully built pyspark\n",
            "Installing collected packages: py4j, pyspark\n",
            "Successfully installed py4j-0.10.7 pyspark-2.4.6\n"
          ],
          "name": "stdout"
        }
      ]
    },
    {
      "cell_type": "markdown",
      "metadata": {
        "colab_type": "text",
        "id": "y4ItP9Ga8q27"
      },
      "source": [
        "### 1.1 Products Counting Example \n",
        "\n",
        "To test your installation and start to get familiarized with Spark, we will follow an example that counts how many times the products of a toy dataset were purchased.\n",
        "\n",
        "The main entry point to start programming with Spark is the [RDD API](https://spark.apache.org/docs/latest/api/python/pyspark.html#pyspark.RDD), an excellent Spark abstraction to work with the MapReduce framework.  RDD is a collection of elements partitioned across the nodes of the cluster that can operate in parallel. In other words, RDD is how Spark keeps your data ready to perform some function (e.g., a map or reduce function) in parallel. **Do not worry if this still sounds confusing, it will be clear once you start implementing**. However, it is part of this TP to study/consult the [Spark python API](https://spark.apache.org/docs/latest/api/python/) and learn how to use it. Some useful functions that the RDD API offers are:\n",
        "\n",
        "1. **map**: return a new RDD by applying a function to each element of this RDD.\n",
        "2. **flatMap**: return a new RDD by first applying a function to all elements of this RDD, and then flattening the results. **Should be used when each entry will yield more than one mapped element**\n",
        "3. **reduce**: reduces the elements of this RDD using the specified commutative and associative binary operator.\n",
        "4. **reduceByKey**: merge the values for each key using an associative and commutative reduce function\n",
        "5. **groupByKey**: group the values for each key in the RDD into a single sequence\n",
        "6. **collect**: return a list that contains all of the elements in this RDD. **Should not be used when working with a lot of data**\n",
        "7. **sample**: return a sampled subset of this RDD\n",
        "8. **count**: return the number of elements in this RDD.\n",
        "9. **filter**: return a new RDD containing only the elements that satisfy a predicate."
      ]
    },
    {
      "cell_type": "code",
      "metadata": {
        "id": "HaKn9Jn1_VF3",
        "colab_type": "code",
        "colab": {
          "base_uri": "https://localhost:8080/",
          "height": 122
        },
        "outputId": "ed32d2b7-d941-4c6a-c519-e414b1aa30b1"
      },
      "source": [
        "from google.colab import drive\n",
        "drive.mount('/content/drive')"
      ],
      "execution_count": 2,
      "outputs": [
        {
          "output_type": "stream",
          "text": [
            "Go to this URL in a browser: https://accounts.google.com/o/oauth2/auth?client_id=947318989803-6bn6qk8qdgf4n4g3pfee6491hc0brc4i.apps.googleusercontent.com&redirect_uri=urn%3aietf%3awg%3aoauth%3a2.0%3aoob&response_type=code&scope=email%20https%3a%2f%2fwww.googleapis.com%2fauth%2fdocs.test%20https%3a%2f%2fwww.googleapis.com%2fauth%2fdrive%20https%3a%2f%2fwww.googleapis.com%2fauth%2fdrive.photos.readonly%20https%3a%2f%2fwww.googleapis.com%2fauth%2fpeopleapi.readonly\n",
            "\n",
            "Enter your authorization code:\n",
            "··········\n",
            "Mounted at /content/drive\n"
          ],
          "name": "stdout"
        }
      ]
    },
    {
      "cell_type": "code",
      "metadata": {
        "id": "Rp1sch5T_WeH",
        "colab_type": "code",
        "colab": {
          "base_uri": "https://localhost:8080/",
          "height": 85
        },
        "outputId": "1908e54b-02d9-412b-e2f4-4aa307deed69"
      },
      "source": [
        "PATH = \"/content/drive/My Drive/1 Polymtl/Ete20/INF8111/TP2/\" # \"gs://bucket-tp-inf8111/\" # when using google cloud\n",
        "! ls \"/content/drive/My Drive/1 Polymtl/Ete20/INF8111/TP2/\""
      ],
      "execution_count": 3,
      "outputs": [
        {
          "output_type": "stream",
          "text": [
            "instacart  tp2.ipynb\n",
            "other\t   TP2_KacemKhaled_OumaymaMessoussi_SemahAissaoui_GCloud.ipynb\n",
            "shared\t   TP2_KacemKhaled_OumaymaMessoussi_SemahAissaoui.ipynb\n",
            "toy.csv    TP2_KacemKhaled_OumaymaMessoussi_SemahAissaoui_old.ipynb\n"
          ],
          "name": "stdout"
        }
      ]
    },
    {
      "cell_type": "code",
      "metadata": {
        "colab_type": "code",
        "id": "_ozEKZvx8q28",
        "outputId": "e2b98165-2d89-4340-996b-387f66d2f023",
        "colab": {
          "base_uri": "https://localhost:8080/",
          "height": 564
        }
      },
      "source": [
        "from pyspark.sql import SparkSession\n",
        "\n",
        "def map_to_product(row):\n",
        "    \"\"\"\n",
        "    Map each transaction into a set of KEY-VALUE elements.\n",
        "    The KEY is the word (product) itself and the VALUE is its number of apparitions.\n",
        "    \"\"\"\n",
        "    products = row.transaction.split(';') # split products from the column transaction\n",
        "    for p in products:\n",
        "        yield (p, 1)\n",
        "\n",
        "def reduce_product_by_key(value1, value2):\n",
        "    \"Reduce the mapped objects to unique words by merging (summing ) their values\"\n",
        "    return value1+value2\n",
        "\n",
        "# Initializates a object of SparkSession class, main entry point to Spark's funcionalites\n",
        "spark = SparkSession.builder.getOrCreate()\n",
        "        \n",
        "# Read a toy dataset\n",
        "toy = spark.read.csv(PATH+'toy.csv', header=True)\n",
        "print(\"Toy dataset\")\n",
        "toy.show()\n",
        "\n",
        "# Obtain a RDD object to call a map function\n",
        "toy_rdd = toy.rdd\n",
        "print(\"Toy dataframe as a RDD object (list of Row objects):\\n\\t\", toy_rdd.collect())\n",
        "\n",
        "# Map function to identify all products\n",
        "toy_rdd = toy_rdd.flatMap(map_to_product)\n",
        "print(\"\\nMapped products:\\n\\t\", toy_rdd.collect())\n",
        "\n",
        "# Reduce function to merge values of elements that share the same KEY\n",
        "toy_rdd = toy_rdd.reduceByKey(reduce_product_by_key)\n",
        "print(\"\\nReduced (merged) products:\\n\\t\", toy_rdd.collect())\n",
        "\n",
        "print(\"\\nVisualizing as a dataframe:\")\n",
        "toy_rdd.toDF([\"product\", \"count_product\"]).show()"
      ],
      "execution_count": 4,
      "outputs": [
        {
          "output_type": "stream",
          "text": [
            "Toy dataset\n",
            "+--------+-----------+\n",
            "|order_id|transaction|\n",
            "+--------+-----------+\n",
            "|       1|    a;b;c;f|\n",
            "|       2|    d;b;a;e|\n",
            "|       3|        c;b|\n",
            "|       4|        b;c|\n",
            "+--------+-----------+\n",
            "\n",
            "Toy dataframe as a RDD object (list of Row objects):\n",
            "\t [Row(order_id='1', transaction='a;b;c;f'), Row(order_id='2', transaction='d;b;a;e'), Row(order_id='3', transaction='c;b'), Row(order_id='4', transaction='b;c')]\n",
            "\n",
            "Mapped products:\n",
            "\t [('a', 1), ('b', 1), ('c', 1), ('f', 1), ('d', 1), ('b', 1), ('a', 1), ('e', 1), ('c', 1), ('b', 1), ('b', 1), ('c', 1)]\n",
            "\n",
            "Reduced (merged) products:\n",
            "\t [('a', 2), ('b', 4), ('c', 3), ('f', 1), ('d', 1), ('e', 1)]\n",
            "\n",
            "Visualizing as a dataframe:\n",
            "+-------+-------------+\n",
            "|product|count_product|\n",
            "+-------+-------------+\n",
            "|      a|            2|\n",
            "|      b|            4|\n",
            "|      c|            3|\n",
            "|      f|            1|\n",
            "|      d|            1|\n",
            "|      e|            1|\n",
            "+-------+-------------+\n",
            "\n"
          ],
          "name": "stdout"
        }
      ]
    },
    {
      "cell_type": "markdown",
      "metadata": {
        "colab_type": "text",
        "id": "UqH2nKRI8q3N"
      },
      "source": [
        "### 1.2 Working with Spark's Dataframe\n",
        "\n",
        "In the example above, we briefly used a Spark's Dataframe class, but only to obtain an RDD object with ```toy.rdd``` and to print the data as a structured table with the ```show()``` function. However, [Dataframe](https://spark.apache.org/docs/latest/api/python/pyspark.sql.html#) is a crucial part of the current Spark release and is built upon the RDD API. It is a distributed collection of rows under named columns, the same as a table in a relational database. Spark's Dataframe works similarly as [Pandas'](https://pandas.pydata.org/pandas-docs/stable/reference/api/pandas.DataFrame.html). In fact, we can export (obtain) a Spark's dataframe to (from) a pandas' data frame with the function ```toPandas()``` (```spark.createDataFrame```).\n",
        "\n",
        "A central functionality of the data frame is to profit from the [Spark SQL](https://spark.apache.org/docs/latest/sql-programming-guide.html#sql), a module that allows SQL queries over structured data. For example, the same 'product counting example' could have been implemented as a sequence of SQL operations over the data:  "
      ]
    },
    {
      "cell_type": "code",
      "metadata": {
        "colab_type": "code",
        "id": "h68P1Pkr8q3N",
        "outputId": "506ae37e-d279-432b-8dd8-54c5e4b864da",
        "colab": {
          "base_uri": "https://localhost:8080/",
          "height": 527
        }
      },
      "source": [
        "import pyspark.sql.functions as f\n",
        "\n",
        "# Creates a new column, products, with all products appering in each transaction\n",
        "print('New column \\'products\\': exploding the transaction\\'s products to a new row')\n",
        "df_toy = toy.withColumn('products', f.explode(f.split(toy.transaction, ';')))\n",
        "df_toy.show()\n",
        "\n",
        "# Performs a select query and group rows by the product name, aggreagating by counting\n",
        "print('Couting unique products:')\n",
        "df_toy.select(df_toy.products)\\\n",
        "      .groupBy(df_toy.products)\\\n",
        "      .agg(f.count('products').alias('count_product'))\\\n",
        "      .sort('count_product', ascending=False)\\\n",
        "      .show()"
      ],
      "execution_count": 5,
      "outputs": [
        {
          "output_type": "stream",
          "text": [
            "New column 'products': exploding the transaction's products to a new row\n",
            "+--------+-----------+--------+\n",
            "|order_id|transaction|products|\n",
            "+--------+-----------+--------+\n",
            "|       1|    a;b;c;f|       a|\n",
            "|       1|    a;b;c;f|       b|\n",
            "|       1|    a;b;c;f|       c|\n",
            "|       1|    a;b;c;f|       f|\n",
            "|       2|    d;b;a;e|       d|\n",
            "|       2|    d;b;a;e|       b|\n",
            "|       2|    d;b;a;e|       a|\n",
            "|       2|    d;b;a;e|       e|\n",
            "|       3|        c;b|       c|\n",
            "|       3|        c;b|       b|\n",
            "|       4|        b;c|       b|\n",
            "|       4|        b;c|       c|\n",
            "+--------+-----------+--------+\n",
            "\n",
            "Couting unique products:\n",
            "+--------+-------------+\n",
            "|products|count_product|\n",
            "+--------+-------------+\n",
            "|       b|            4|\n",
            "|       c|            3|\n",
            "|       a|            2|\n",
            "|       e|            1|\n",
            "|       f|            1|\n",
            "|       d|            1|\n",
            "+--------+-------------+\n",
            "\n"
          ],
          "name": "stdout"
        }
      ]
    },
    {
      "cell_type": "markdown",
      "metadata": {
        "colab_type": "text",
        "id": "F_IU_rf18q3S"
      },
      "source": [
        "Also, the same SQL operations performed above could have been done with a traditional SQL language query as showing below:"
      ]
    },
    {
      "cell_type": "code",
      "metadata": {
        "colab_type": "code",
        "id": "c68l__Eb8q3S",
        "outputId": "87051e61-117d-4686-d191-48b1443ba56e",
        "colab": {
          "base_uri": "https://localhost:8080/",
          "height": 204
        }
      },
      "source": [
        "# Creates a relational table TOY in the Spark session\n",
        "df_toy.createOrReplaceTempView(\"TOY\")\n",
        "\n",
        "spark.sql(\"SELECT t.products, COUNT(t.products) AS product_count\"\n",
        "          \" FROM TOY t\"\n",
        "          \" GROUP BY t.products\"\n",
        "          \" ORDER BY product_count DESC\").show()"
      ],
      "execution_count": 6,
      "outputs": [
        {
          "output_type": "stream",
          "text": [
            "+--------+-------------+\n",
            "|products|product_count|\n",
            "+--------+-------------+\n",
            "|       b|            4|\n",
            "|       c|            3|\n",
            "|       a|            2|\n",
            "|       f|            1|\n",
            "|       e|            1|\n",
            "|       d|            1|\n",
            "+--------+-------------+\n",
            "\n"
          ],
          "name": "stdout"
        }
      ]
    },
    {
      "cell_type": "markdown",
      "metadata": {
        "colab_type": "text",
        "id": "8Ck1hRFC8q3U"
      },
      "source": [
        "These SQL concepts are being mentioned here because they will be useful to us during the TP, mainly in Section 3, to manipulate the supermarket data, which is structured in tables. Thus, if you are not familiar with SQL, it is recommended that you follow a [tutorial](https://www.w3schools.com/sql/) to understand the basics.\n",
        "\n",
        "## 2. MBA Algorithm \n",
        "The following sections explain how you should develop each step of the MapReduce algorithm for our supermarket application. Figure workflow.png illustrates each step of the algorithm.\n",
        "\n",
        "### 2.1 Map to Patterns (10 points)\n",
        "For a given set of transactions (i.e., the rows of our toy dataset), each transaction must be **mapped** into a set of *purchase patterns* found within the transaction. Formally, these patterns are subsets of products that represent a group of items bought together. \n",
        "\n",
        "For the MapReduce framework, each pattern must be created as a *KEY-VALUE* element, where the KEY can take the form of a singleton, a pair or a trio of products that are present in the transaction. More precisely, for each transaction, the mapping function must generate all possible **UNIQUE** subsets of size **ONE, TWO or THREE**.  The VALUE associated with each KEY is the number of times that the KEY appeared in the transaction (if we assume that no product appears more than once in the transaction, this value is always equal to one). \n",
        "\n",
        "Now, implement the **map_to_patterns** function that receives a transaction (a row from the data frame) and returns the patterns found in the transaction. The mapped elements are a tuple (KEY, VALUE), where KEY is also a tuple of product names. It is crucial to notice that, since each entry (transaction) of the map function will **yield** more than one KEY-VALUE element, a *flatMap* must be invoked for this step.\n",
        "\n",
        "For the toy dataset, the expected output is similar to:\n",
        "\n",
        "\n",
        "<pre style=\"align:center; border:1px solid black;font-size: 8pt; line-height: 1.1; height: auto; width: 20em; padding-left:1px\">\n",
        "<code>\n",
        "+---------------+-----------+\n",
        "|       patterns|occurrences|\n",
        "+---------------+-----------+\n",
        "|         ('a',)|          1|\n",
        "|     ('a', 'b')|          1|\n",
        "|('a', 'b', 'c')|          1|\n",
        "|('a', 'b', 'f')|          1|\n",
        "|     ('a', 'c')|          1|\n",
        "|('a', 'c', 'f')|          1|\n",
        "|     ('a', 'f')|          1|\n",
        "|         ('b',)|          1|\n",
        "|     ('b', 'c')|          1|\n",
        "|('b', 'c', 'f')|          1|\n",
        "|     ('b', 'f')|          1|\n",
        "|         ('c',)|          1|\n",
        "|     ('c', 'f')|          1|\n",
        "|         ('f',)|          1|\n",
        "|         ('a',)|          1|\n",
        "|     ('a', 'b')|          1|\n",
        "|('a', 'b', 'd')|          1|\n",
        "|('a', 'b', 'e')|          1|\n",
        "|     ('a', 'd')|          1|\n",
        "|('a', 'd', 'e')|          1|\n",
        "|     ('a', 'e')|          1|\n",
        "|         ('b',)|          1|\n",
        "|     ('b', 'd')|          1|\n",
        "|('b', 'd', 'e')|          1|\n",
        "|     ('b', 'e')|          1|\n",
        "|         ('d',)|          1|\n",
        "|     ('d', 'e')|          1|\n",
        "|         ('e',)|          1|\n",
        "|         ('b',)|          1|\n",
        "|     ('b', 'c')|          1|\n",
        "|         ('c',)|          1|\n",
        "|         ('b',)|          1|\n",
        "|     ('b', 'c')|          1|\n",
        "|         ('c',)|          1|\n",
        "+---------------+-----------+\n",
        "</code>\n",
        "</pre>"
      ]
    },
    {
      "cell_type": "code",
      "metadata": {
        "colab_type": "code",
        "id": "XgcZFavR8q3U",
        "outputId": "b55bf430-a08c-46e8-99be-6b28ef2ae669",
        "colab": {
          "base_uri": "https://localhost:8080/",
          "height": 680
        }
      },
      "source": [
        "from itertools import combinations\n",
        "\n",
        "def format_tuples(pattern):\n",
        "    \"\"\"\n",
        "    Used for visualizition.\n",
        "    Transforms tuples to a string since Dataframe does not support column of tuples with different sizes\n",
        "    (a,b,c) -> '(a,b,c)'\n",
        "    \"\"\"\n",
        "    return (str(pattern[0]), str(pattern[1]))\n",
        "\n",
        "def map_to_patterns(row):\n",
        "    \n",
        "    to_yield = []\n",
        "    products = row.transaction.split(';')\n",
        "    for i in range(1, 4):\n",
        "        to_yield.extend(list(combinations(sorted(products), i)))\n",
        "    \n",
        "    for pattern in to_yield:\n",
        "        yield (pattern, 1)\n",
        "    \n",
        "\n",
        "toy_rdd = toy.rdd\n",
        "patterns_rdd = toy_rdd.flatMap(map_to_patterns)\n",
        "\n",
        "# Output as dataframe\n",
        "patterns_rdd.map(format_tuples).toDF(['patterns', 'occurrences']).show(150,truncate=False)"
      ],
      "execution_count": 7,
      "outputs": [
        {
          "output_type": "stream",
          "text": [
            "+---------------+-----------+\n",
            "|patterns       |occurrences|\n",
            "+---------------+-----------+\n",
            "|('a',)         |1          |\n",
            "|('b',)         |1          |\n",
            "|('c',)         |1          |\n",
            "|('f',)         |1          |\n",
            "|('a', 'b')     |1          |\n",
            "|('a', 'c')     |1          |\n",
            "|('a', 'f')     |1          |\n",
            "|('b', 'c')     |1          |\n",
            "|('b', 'f')     |1          |\n",
            "|('c', 'f')     |1          |\n",
            "|('a', 'b', 'c')|1          |\n",
            "|('a', 'b', 'f')|1          |\n",
            "|('a', 'c', 'f')|1          |\n",
            "|('b', 'c', 'f')|1          |\n",
            "|('a',)         |1          |\n",
            "|('b',)         |1          |\n",
            "|('d',)         |1          |\n",
            "|('e',)         |1          |\n",
            "|('a', 'b')     |1          |\n",
            "|('a', 'd')     |1          |\n",
            "|('a', 'e')     |1          |\n",
            "|('b', 'd')     |1          |\n",
            "|('b', 'e')     |1          |\n",
            "|('d', 'e')     |1          |\n",
            "|('a', 'b', 'd')|1          |\n",
            "|('a', 'b', 'e')|1          |\n",
            "|('a', 'd', 'e')|1          |\n",
            "|('b', 'd', 'e')|1          |\n",
            "|('b',)         |1          |\n",
            "|('c',)         |1          |\n",
            "|('b', 'c')     |1          |\n",
            "|('b',)         |1          |\n",
            "|('c',)         |1          |\n",
            "|('b', 'c')     |1          |\n",
            "+---------------+-----------+\n",
            "\n"
          ],
          "name": "stdout"
        }
      ]
    },
    {
      "cell_type": "markdown",
      "metadata": {
        "colab_type": "text",
        "id": "djN0Eb-68q3W"
      },
      "source": [
        "### 2.2 Reduce patterns (2.5 points)\n",
        "Once different CPUs processed the transactions, a **reduce** function must take place to combine identical KEYS (the subset of products) and compute the total number of its occurrences in the entire dataset. In other words, this reduce procedure must sum the *VALUE* of each identical KEY.\n",
        "\n",
        "Create a **reduce_patterns** function below that must sum the VALUE of each pattern.\n",
        "For the toy dataset, the expected output is:\n",
        "<pre style=\"align:center; border:1px solid black;font-size: 8pt; line-height: 1.1; height: auto; width: 28em; padding-left:5px\">\n",
        "<code>\n",
        "+---------------+--------------------+\n",
        "|       patterns|combined_occurrences|\n",
        "+---------------+--------------------+\n",
        "|         ('a',)|                   2|\n",
        "|     ('a', 'b')|                   2|\n",
        "|('a', 'b', 'c')|                   1|\n",
        "|('a', 'b', 'f')|                   1|\n",
        "|     ('a', 'c')|                   1|\n",
        "|('a', 'c', 'f')|                   1|\n",
        "|     ('a', 'f')|                   1|\n",
        "|         ('b',)|                   4|\n",
        "|     ('b', 'c')|                   3|\n",
        "|('b', 'c', 'f')|                   1|\n",
        "|     ('b', 'f')|                   1|\n",
        "|         ('c',)|                   3|\n",
        "|     ('c', 'f')|                   1|\n",
        "|         ('f',)|                   1|\n",
        "|('a', 'b', 'd')|                   1|\n",
        "|('a', 'b', 'e')|                   1|\n",
        "|     ('a', 'd')|                   1|\n",
        "|('a', 'd', 'e')|                   1|\n",
        "|     ('a', 'e')|                   1|\n",
        "|     ('b', 'd')|                   1|\n",
        "|('b', 'd', 'e')|                   1|\n",
        "|     ('b', 'e')|                   1|\n",
        "|         ('d',)|                   1|\n",
        "|     ('d', 'e')|                   1|\n",
        "|         ('e',)|                   1|\n",
        "+---------------+--------------------+\n",
        "</code>\n",
        "</pre>\n"
      ]
    },
    {
      "cell_type": "code",
      "metadata": {
        "colab_type": "code",
        "id": "VHA6boqv8q3W",
        "outputId": "985c8406-2055-4ad0-c1b1-405d68980ed4",
        "colab": {
          "base_uri": "https://localhost:8080/",
          "height": 527
        }
      },
      "source": [
        "def reduce_patterns(value1, value2):\n",
        "    return value1+value2\n",
        "\n",
        "combined_patterns_rdd = patterns_rdd.reduceByKey(reduce_patterns)\n",
        "\n",
        "# Output as dataframe\n",
        "combined_patterns_rdd.map(format_tuples).toDF(['patterns', 'combined_occurrences']).show(150,truncate=False)"
      ],
      "execution_count": 8,
      "outputs": [
        {
          "output_type": "stream",
          "text": [
            "+---------------+--------------------+\n",
            "|patterns       |combined_occurrences|\n",
            "+---------------+--------------------+\n",
            "|('a',)         |2                   |\n",
            "|('b',)         |4                   |\n",
            "|('c',)         |3                   |\n",
            "|('f',)         |1                   |\n",
            "|('a', 'b')     |2                   |\n",
            "|('a', 'c')     |1                   |\n",
            "|('a', 'f')     |1                   |\n",
            "|('b', 'c')     |3                   |\n",
            "|('b', 'f')     |1                   |\n",
            "|('c', 'f')     |1                   |\n",
            "|('a', 'b', 'c')|1                   |\n",
            "|('a', 'b', 'f')|1                   |\n",
            "|('a', 'c', 'f')|1                   |\n",
            "|('b', 'c', 'f')|1                   |\n",
            "|('d',)         |1                   |\n",
            "|('e',)         |1                   |\n",
            "|('a', 'd')     |1                   |\n",
            "|('a', 'e')     |1                   |\n",
            "|('b', 'd')     |1                   |\n",
            "|('b', 'e')     |1                   |\n",
            "|('d', 'e')     |1                   |\n",
            "|('a', 'b', 'd')|1                   |\n",
            "|('a', 'b', 'e')|1                   |\n",
            "|('a', 'd', 'e')|1                   |\n",
            "|('b', 'd', 'e')|1                   |\n",
            "+---------------+--------------------+\n",
            "\n"
          ],
          "name": "stdout"
        }
      ]
    },
    {
      "cell_type": "markdown",
      "metadata": {
        "colab_type": "text",
        "id": "PvHh4-RR8q3Y"
      },
      "source": [
        "### 2.3 Map to subpatterns (15 points)\n",
        "Next, another **map** function should be applied to generate subpatterns. Once again, the subpatterns are KEY-VALUE elements, where the KEY is a subset of products as well. However, creating the subpattern's KEY is a different procedure. This time, the idea is to break down the list of products of each pattern (pattern KEY), remove one product at a time, and yield the resulting list as the new subpattern KEY. \n",
        "\n",
        "For example, for a given pattern $P$ with three products, $p_1, p_2 $ and $p_3$, three new subpatterns KEYs are going to be created: (i) remove $p_1$ and yield ($p_2, p_3$); (ii) remove $p_2$ and yield ($p_1,p_3$); and (iii) remove $p_3$ and yield ($p_1,p_2$). \n",
        "\n",
        "Additionally, the subpattern's VALUE structure will also be different. Instead of just single integer value as we had in the patterns, this time a *tuple* should be created for the subpattern VALUE. This tuple contains the product that was removed when yielding the KEY and the number of times the pattern appeared. For example above, the values should be ($p_1,v$), ($p_2,v$) and ($p_3,v$), respectively, where $v$ is the VALUE of the pattern. \n",
        "\n",
        "The idea behind subpatterns is to create **rules** such as: when the products of KEY were bought, the item present in the VALUE was also bought *v* times. Furthermore, each pattern should also yield a subpattern where the KEY is the same list of products of the pattern, but the VALUE is a tuple with a null product (None) and the number of times the pattern appeared. This element will be useful to keep track of how many times such a pattern was found and later will be used to compute the confidence value when generating the association rules. \n",
        "\n",
        "Now, implement the  **map_to_subpatterns** function that receives a pattern and yields all found subpatterns. Once again, each entry (pattern) will generate more than one KEY-VALUE element, then a flatMap function must be called.\n",
        "\n",
        "For the toy dataset, the expected output is:\n",
        "\n",
        "<pre style=\"align:center; border:1px solid black;font-size: 8pt; line-height: 1.1; height: auto; width: 20em; padding-left:5px\">\n",
        "<code>\n",
        "+---------------+---------+\n",
        "|    subpatterns|    rules|\n",
        "+---------------+---------+\n",
        "|         ('a',)|(None, 2)|\n",
        "|     ('a', 'b')|(None, 2)|\n",
        "|         ('b',)| ('a', 2)|\n",
        "|         ('a',)| ('b', 2)|\n",
        "|('a', 'b', 'c')|(None, 1)|\n",
        "|     ('b', 'c')| ('a', 1)|\n",
        "|     ('a', 'c')| ('b', 1)|\n",
        "|     ('a', 'b')| ('c', 1)|\n",
        "|('a', 'b', 'f')|(None, 1)|\n",
        "|     ('b', 'f')| ('a', 1)|\n",
        "|     ('a', 'f')| ('b', 1)|\n",
        "|     ('a', 'b')| ('f', 1)|\n",
        "|     ('a', 'c')|(None, 1)|\n",
        "|         ('c',)| ('a', 1)|\n",
        "|         ('a',)| ('c', 1)|\n",
        "|('a', 'c', 'f')|(None, 1)|\n",
        "|     ('c', 'f')| ('a', 1)|\n",
        "|     ('a', 'f')| ('c', 1)|\n",
        "|     ('a', 'c')| ('f', 1)|\n",
        "|     ('a', 'f')|(None, 1)|\n",
        "|         ('f',)| ('a', 1)|\n",
        "|         ('a',)| ('f', 1)|\n",
        "|         ('b',)|(None, 4)|\n",
        "|     ('b', 'c')|(None, 3)|\n",
        "|         ('c',)| ('b', 3)|\n",
        "|         ('b',)| ('c', 3)|\n",
        "|('b', 'c', 'f')|(None, 1)|\n",
        "|     ('c', 'f')| ('b', 1)|\n",
        "|     ('b', 'f')| ('c', 1)|\n",
        "|     ('b', 'c')| ('f', 1)|\n",
        "|     ('b', 'f')|(None, 1)|\n",
        "|         ('f',)| ('b', 1)|\n",
        "|         ('b',)| ('f', 1)|\n",
        "|         ('c',)|(None, 3)|\n",
        "|     ('c', 'f')|(None, 1)|\n",
        "|         ('f',)| ('c', 1)|\n",
        "|         ('c',)| ('f', 1)|\n",
        "|         ('f',)|(None, 1)|\n",
        "|('a', 'b', 'd')|(None, 1)|\n",
        "|     ('b', 'd')| ('a', 1)|\n",
        "|     ('a', 'd')| ('b', 1)|\n",
        "|     ('a', 'b')| ('d', 1)|\n",
        "|('a', 'b', 'e')|(None, 1)|\n",
        "|     ('b', 'e')| ('a', 1)|\n",
        "|     ('a', 'e')| ('b', 1)|\n",
        "|     ('a', 'b')| ('e', 1)|\n",
        "|     ('a', 'd')|(None, 1)|\n",
        "|         ('d',)| ('a', 1)|\n",
        "|         ('a',)| ('d', 1)|\n",
        "|('a', 'd', 'e')|(None, 1)|\n",
        "|     ('d', 'e')| ('a', 1)|\n",
        "|     ('a', 'e')| ('d', 1)|\n",
        "|     ('a', 'd')| ('e', 1)|\n",
        "|     ('a', 'e')|(None, 1)|\n",
        "|         ('e',)| ('a', 1)|\n",
        "|         ('a',)| ('e', 1)|\n",
        "|     ('b', 'd')|(None, 1)|\n",
        "|         ('d',)| ('b', 1)|\n",
        "|         ('b',)| ('d', 1)|\n",
        "|('b', 'd', 'e')|(None, 1)|\n",
        "|     ('d', 'e')| ('b', 1)|\n",
        "|     ('b', 'e')| ('d', 1)|\n",
        "|     ('b', 'd')| ('e', 1)|\n",
        "|     ('b', 'e')|(None, 1)|\n",
        "|         ('e',)| ('b', 1)|\n",
        "|         ('b',)| ('e', 1)|\n",
        "|         ('d',)|(None, 1)|\n",
        "|     ('d', 'e')|(None, 1)|\n",
        "|         ('e',)| ('d', 1)|\n",
        "|         ('d',)| ('e', 1)|\n",
        "|         ('e',)|(None, 1)|\n",
        "+---------------+---------+\n",
        "</code>\n",
        "</pre>"
      ]
    },
    {
      "cell_type": "code",
      "metadata": {
        "colab_type": "code",
        "id": "iAzW7ExI8q3Y",
        "outputId": "9e5ed20a-5c49-4801-f2e6-367e58913f5c",
        "colab": {
          "base_uri": "https://localhost:8080/",
          "height": 1000
        }
      },
      "source": [
        "from copy import deepcopy\n",
        "def map_to_subpatterns(pattern):\n",
        "    key = pattern[0]\n",
        "    value = pattern[1]\n",
        "\n",
        "    yield (key, tuple((None, value)))\n",
        "    if len(key) != 1:\n",
        "        tmp = deepcopy(key)\n",
        "        for i, elem in enumerate(tmp):\n",
        "            sub = tmp[0:i]+tmp[i+1:]\n",
        "            yield (sub, tuple((elem, value)))\n",
        "\n",
        "subpatterns_rdd = combined_patterns_rdd.flatMap(map_to_subpatterns)\n",
        "\n",
        "# Output as dataframe\n",
        "subpatterns_rdd.map(format_tuples).toDF(['subpatterns', 'rules']).show(150, truncate=False)"
      ],
      "execution_count": 9,
      "outputs": [
        {
          "output_type": "stream",
          "text": [
            "+---------------+---------+\n",
            "|subpatterns    |rules    |\n",
            "+---------------+---------+\n",
            "|('a',)         |(None, 2)|\n",
            "|('b',)         |(None, 4)|\n",
            "|('c',)         |(None, 3)|\n",
            "|('f',)         |(None, 1)|\n",
            "|('a', 'b')     |(None, 2)|\n",
            "|('b',)         |('a', 2) |\n",
            "|('a',)         |('b', 2) |\n",
            "|('a', 'c')     |(None, 1)|\n",
            "|('c',)         |('a', 1) |\n",
            "|('a',)         |('c', 1) |\n",
            "|('a', 'f')     |(None, 1)|\n",
            "|('f',)         |('a', 1) |\n",
            "|('a',)         |('f', 1) |\n",
            "|('b', 'c')     |(None, 3)|\n",
            "|('c',)         |('b', 3) |\n",
            "|('b',)         |('c', 3) |\n",
            "|('b', 'f')     |(None, 1)|\n",
            "|('f',)         |('b', 1) |\n",
            "|('b',)         |('f', 1) |\n",
            "|('c', 'f')     |(None, 1)|\n",
            "|('f',)         |('c', 1) |\n",
            "|('c',)         |('f', 1) |\n",
            "|('a', 'b', 'c')|(None, 1)|\n",
            "|('b', 'c')     |('a', 1) |\n",
            "|('a', 'c')     |('b', 1) |\n",
            "|('a', 'b')     |('c', 1) |\n",
            "|('a', 'b', 'f')|(None, 1)|\n",
            "|('b', 'f')     |('a', 1) |\n",
            "|('a', 'f')     |('b', 1) |\n",
            "|('a', 'b')     |('f', 1) |\n",
            "|('a', 'c', 'f')|(None, 1)|\n",
            "|('c', 'f')     |('a', 1) |\n",
            "|('a', 'f')     |('c', 1) |\n",
            "|('a', 'c')     |('f', 1) |\n",
            "|('b', 'c', 'f')|(None, 1)|\n",
            "|('c', 'f')     |('b', 1) |\n",
            "|('b', 'f')     |('c', 1) |\n",
            "|('b', 'c')     |('f', 1) |\n",
            "|('d',)         |(None, 1)|\n",
            "|('e',)         |(None, 1)|\n",
            "|('a', 'd')     |(None, 1)|\n",
            "|('d',)         |('a', 1) |\n",
            "|('a',)         |('d', 1) |\n",
            "|('a', 'e')     |(None, 1)|\n",
            "|('e',)         |('a', 1) |\n",
            "|('a',)         |('e', 1) |\n",
            "|('b', 'd')     |(None, 1)|\n",
            "|('d',)         |('b', 1) |\n",
            "|('b',)         |('d', 1) |\n",
            "|('b', 'e')     |(None, 1)|\n",
            "|('e',)         |('b', 1) |\n",
            "|('b',)         |('e', 1) |\n",
            "|('d', 'e')     |(None, 1)|\n",
            "|('e',)         |('d', 1) |\n",
            "|('d',)         |('e', 1) |\n",
            "|('a', 'b', 'd')|(None, 1)|\n",
            "|('b', 'd')     |('a', 1) |\n",
            "|('a', 'd')     |('b', 1) |\n",
            "|('a', 'b')     |('d', 1) |\n",
            "|('a', 'b', 'e')|(None, 1)|\n",
            "|('b', 'e')     |('a', 1) |\n",
            "|('a', 'e')     |('b', 1) |\n",
            "|('a', 'b')     |('e', 1) |\n",
            "|('a', 'd', 'e')|(None, 1)|\n",
            "|('d', 'e')     |('a', 1) |\n",
            "|('a', 'e')     |('d', 1) |\n",
            "|('a', 'd')     |('e', 1) |\n",
            "|('b', 'd', 'e')|(None, 1)|\n",
            "|('d', 'e')     |('b', 1) |\n",
            "|('b', 'e')     |('d', 1) |\n",
            "|('b', 'd')     |('e', 1) |\n",
            "+---------------+---------+\n",
            "\n"
          ],
          "name": "stdout"
        }
      ]
    },
    {
      "cell_type": "markdown",
      "metadata": {
        "colab_type": "text",
        "id": "HtiAJVMi8q3a"
      },
      "source": [
        "### 2.4 Reduce Subpatterns (2.5 points)\n",
        "Once again, a **reduce** function will be required to group all the subpatterns by their KEY. The objective of this reducing procedure is to create a list of all **rules** that appeared in KEY. Hence, the expected output resulting from this reduce function is also a KEY-VALUE element, where the KEY is the subpattern's KEY, and the VALUE is a group containing all the VALUEs of the subpatterns that share the same KEY.\n",
        "\n",
        "For the toy dataset, the expected output is:\n",
        "\n",
        "\n",
        "<pre style=\"align:center; border:1px solid black;font-size: 8pt; line-height: 1.1; height: auto; width: 50em; padding-left:5px\">\n",
        "<code>\n",
        "+---------------+-------------------------------------------------------------+\n",
        "|subpatterns    |combined_rules                                               |\n",
        "+---------------+-------------------------------------------------------------+\n",
        "|('a',)         |[(None, 2), ('b', 2), ('c', 1), ('f', 1), ('d', 1), ('e', 1)]|\n",
        "|('a', 'b')     |[(None, 2), ('c', 1), ('f', 1), ('d', 1), ('e', 1)]          |\n",
        "|('b',)         |[('a', 2), (None, 4), ('c', 3), ('f', 1), ('d', 1), ('e', 1)]|\n",
        "|('a', 'b', 'c')|[(None, 1)]                                                  |\n",
        "|('b', 'c')     |[('a', 1), (None, 3), ('f', 1)]                              |\n",
        "|('a', 'c')     |[('b', 1), (None, 1), ('f', 1)]                              |\n",
        "|('a', 'b', 'f')|[(None, 1)]                                                  |\n",
        "|('b', 'f')     |[('a', 1), ('c', 1), (None, 1)]                              |\n",
        "|('a', 'f')     |[('b', 1), ('c', 1), (None, 1)]                              |\n",
        "|('c',)         |[('a', 1), ('b', 3), (None, 3), ('f', 1)]                    |\n",
        "|('a', 'c', 'f')|[(None, 1)]                                                  |\n",
        "|('c', 'f')     |[('a', 1), ('b', 1), (None, 1)]                              |\n",
        "|('f',)         |[('a', 1), ('b', 1), ('c', 1), (None, 1)]                    |\n",
        "|('b', 'c', 'f')|[(None, 1)]                                                  |\n",
        "|('a', 'b', 'd')|[(None, 1)]                                                  |\n",
        "|('b', 'd')     |[('a', 1), (None, 1), ('e', 1)]                              |\n",
        "|('a', 'd')     |[('b', 1), (None, 1), ('e', 1)]                              |\n",
        "|('a', 'b', 'e')|[(None, 1)]                                                  |\n",
        "|('b', 'e')     |[('a', 1), ('d', 1), (None, 1)]                              |\n",
        "|('a', 'e')     |[('b', 1), ('d', 1), (None, 1)]                              |\n",
        "+---------------+-------------------------------------------------------------+\n",
        "</code>\n",
        "</pre>\n"
      ]
    },
    {
      "cell_type": "code",
      "metadata": {
        "colab_type": "code",
        "id": "2rI4Q9Ok8q3a",
        "outputId": "50c80c06-bdef-49b2-e9f0-28d647c237e7",
        "colab": {
          "base_uri": "https://localhost:8080/",
          "height": 527
        }
      },
      "source": [
        "def list_map(pattern):\n",
        "    return (pattern[0], list(pattern[1]))\n",
        "\n",
        "combined_rules = subpatterns_rdd.groupByKey().map(list_map)\n",
        "\n",
        "# Output as dataframe\n",
        "combined_rules.map(format_tuples).toDF(['subpatterns', 'combined_rules']).show(150, truncate=False)"
      ],
      "execution_count": 10,
      "outputs": [
        {
          "output_type": "stream",
          "text": [
            "+---------------+-------------------------------------------------------------+\n",
            "|subpatterns    |combined_rules                                               |\n",
            "+---------------+-------------------------------------------------------------+\n",
            "|('a',)         |[(None, 2), ('b', 2), ('c', 1), ('f', 1), ('d', 1), ('e', 1)]|\n",
            "|('b',)         |[(None, 4), ('a', 2), ('c', 3), ('f', 1), ('d', 1), ('e', 1)]|\n",
            "|('c',)         |[(None, 3), ('a', 1), ('b', 3), ('f', 1)]                    |\n",
            "|('f',)         |[(None, 1), ('a', 1), ('b', 1), ('c', 1)]                    |\n",
            "|('a', 'b')     |[(None, 2), ('c', 1), ('f', 1), ('d', 1), ('e', 1)]          |\n",
            "|('a', 'c')     |[(None, 1), ('b', 1), ('f', 1)]                              |\n",
            "|('a', 'f')     |[(None, 1), ('b', 1), ('c', 1)]                              |\n",
            "|('b', 'c')     |[(None, 3), ('a', 1), ('f', 1)]                              |\n",
            "|('b', 'f')     |[(None, 1), ('a', 1), ('c', 1)]                              |\n",
            "|('c', 'f')     |[(None, 1), ('a', 1), ('b', 1)]                              |\n",
            "|('a', 'b', 'c')|[(None, 1)]                                                  |\n",
            "|('a', 'b', 'f')|[(None, 1)]                                                  |\n",
            "|('a', 'c', 'f')|[(None, 1)]                                                  |\n",
            "|('b', 'c', 'f')|[(None, 1)]                                                  |\n",
            "|('d',)         |[(None, 1), ('a', 1), ('b', 1), ('e', 1)]                    |\n",
            "|('e',)         |[(None, 1), ('a', 1), ('b', 1), ('d', 1)]                    |\n",
            "|('a', 'd')     |[(None, 1), ('b', 1), ('e', 1)]                              |\n",
            "|('a', 'e')     |[(None, 1), ('b', 1), ('d', 1)]                              |\n",
            "|('b', 'd')     |[(None, 1), ('a', 1), ('e', 1)]                              |\n",
            "|('b', 'e')     |[(None, 1), ('a', 1), ('d', 1)]                              |\n",
            "|('d', 'e')     |[(None, 1), ('a', 1), ('b', 1)]                              |\n",
            "|('a', 'b', 'd')|[(None, 1)]                                                  |\n",
            "|('a', 'b', 'e')|[(None, 1)]                                                  |\n",
            "|('a', 'd', 'e')|[(None, 1)]                                                  |\n",
            "|('b', 'd', 'e')|[(None, 1)]                                                  |\n",
            "+---------------+-------------------------------------------------------------+\n",
            "\n"
          ],
          "name": "stdout"
        }
      ]
    },
    {
      "cell_type": "markdown",
      "metadata": {
        "colab_type": "text",
        "id": "VUSqO2F78q3c"
      },
      "source": [
        "## 2.5. Map to Association Rules (15 points)\n",
        "Finally, the last step of the algorithm is to create the association rules to perform the market basket analysis. The goal of this map function is to calculate the **confidence** level of buying a product, knowing that there is already a set of products in the basket. Thus, the KEY of the subpattern is the set of products placed in the basket and, for each product present in the list of rules, i.e., in the VALUE, the confidence can be calculated as:\n",
        "\n",
        "\\begin{align*}\n",
        "\\frac{\\text{number of times the product was bought together with KEY }}{\\text{number of times the KEY appeared}}\n",
        "\\end{align*}\n",
        "\n",
        "For the example given in the Figure workflow, *coffee* was bought 20 times and, in 17 of them, *milk* was bought together. Then, the confidence level of buying *milk* knowing that *coffee* is in the basket is $\\frac{17}{20} = 0.85$, which means that in 85% of the times the coffee was bought, milk was purchased as well.\n",
        "\n",
        "Implement the **map_to_assoc_rules** function that calculates the confidence level for each subpattern.\n",
        "\n",
        "For the toy dataset, the expected output is:\n",
        "<pre style=\"align:center; border:1px solid black;font-size: 8pt; line-height: 1.1; height: auto; width: 57em; padding-left:5px\">\n",
        "<code>\n",
        "+---------------+------------------------------------------------------------------+\n",
        "|patterns       |association_rules                                                 |\n",
        "+---------------+------------------------------------------------------------------+\n",
        "|('a',)         |[('b', 1.0), ('c', 0.5), ('f', 0.5), ('d', 0.5), ('e', 0.5)]      |\n",
        "|('a', 'b')     |[('c', 0.5), ('f', 0.5), ('d', 0.5), ('e', 0.5)]                  |\n",
        "|('b',)         |[('a', 0.5), ('c', 0.75), ('f', 0.25), ('d', 0.25), ('e', 0.25)]  |\n",
        "|('a', 'b', 'c')|[]                                                                |\n",
        "|('b', 'c')     |[('a', 0.3333333333333333), ('f', 0.3333333333333333)]            |\n",
        "|('a', 'c')     |[('b', 1.0), ('f', 1.0)]                                          |\n",
        "|('a', 'b', 'f')|[]                                                                |\n",
        "|('b', 'f')     |[('a', 1.0), ('c', 1.0)]                                          |\n",
        "|('a', 'f')     |[('b', 1.0), ('c', 1.0)]                                          |\n",
        "|('c',)         |[('a', 0.3333333333333333), ('b', 1.0), ('f', 0.3333333333333333)]|\n",
        "|('a', 'c', 'f')|[]                                                                |\n",
        "|('c', 'f')     |[('a', 1.0), ('b', 1.0)]                                          |\n",
        "|('f',)         |[('a', 1.0), ('b', 1.0), ('c', 1.0)]                              |\n",
        "|('b', 'c', 'f')|[]                                                                |\n",
        "|('a', 'b', 'd')|[]                                                                |\n",
        "|('b', 'd')     |[('a', 1.0), ('e', 1.0)]                                          |\n",
        "|('a', 'd')     |[('b', 1.0), ('e', 1.0)]                                          |\n",
        "|('a', 'b', 'e')|[]                                                                |\n",
        "|('b', 'e')     |[('a', 1.0), ('d', 1.0)]                                          |\n",
        "|('a', 'e')     |[('b', 1.0), ('d', 1.0)]                                          |\n",
        "+---------------+------------------------------------------------------------------+\n",
        "</code>\n",
        "</pre>"
      ]
    },
    {
      "cell_type": "code",
      "metadata": {
        "colab_type": "code",
        "id": "4afeIBQQ8q3d",
        "outputId": "9f6bafe6-ca12-40b4-8453-e7153a3b8fdf",
        "colab": {
          "base_uri": "https://localhost:8080/",
          "height": 527
        }
      },
      "source": [
        "def map_to_assoc_rules(rule):\n",
        "    key = rule[0]\n",
        "    values = rule[1]\n",
        "    associations = []\n",
        "    total_value= [item[1] for item in values if item[0] == None][0]\n",
        "    for i in range(0, len(values)):\n",
        "        if values[i][0] != None:\n",
        "          associations.append((values[i][0], values[i][1]/total_value))\n",
        "    yield (key, associations)\n",
        "    \n",
        "\n",
        "assoc_rules = combined_rules.flatMap(map_to_assoc_rules)\n",
        "\n",
        "# Output as dataframe\n",
        "assoc_rules.map(format_tuples).toDF(['patterns', 'association_rules']).show(150, truncate=False)"
      ],
      "execution_count": 11,
      "outputs": [
        {
          "output_type": "stream",
          "text": [
            "+---------------+------------------------------------------------------------------+\n",
            "|patterns       |association_rules                                                 |\n",
            "+---------------+------------------------------------------------------------------+\n",
            "|('a',)         |[('b', 1.0), ('c', 0.5), ('f', 0.5), ('d', 0.5), ('e', 0.5)]      |\n",
            "|('b',)         |[('a', 0.5), ('c', 0.75), ('f', 0.25), ('d', 0.25), ('e', 0.25)]  |\n",
            "|('c',)         |[('a', 0.3333333333333333), ('b', 1.0), ('f', 0.3333333333333333)]|\n",
            "|('f',)         |[('a', 1.0), ('b', 1.0), ('c', 1.0)]                              |\n",
            "|('a', 'b')     |[('c', 0.5), ('f', 0.5), ('d', 0.5), ('e', 0.5)]                  |\n",
            "|('a', 'c')     |[('b', 1.0), ('f', 1.0)]                                          |\n",
            "|('a', 'f')     |[('b', 1.0), ('c', 1.0)]                                          |\n",
            "|('b', 'c')     |[('a', 0.3333333333333333), ('f', 0.3333333333333333)]            |\n",
            "|('b', 'f')     |[('a', 1.0), ('c', 1.0)]                                          |\n",
            "|('c', 'f')     |[('a', 1.0), ('b', 1.0)]                                          |\n",
            "|('a', 'b', 'c')|[]                                                                |\n",
            "|('a', 'b', 'f')|[]                                                                |\n",
            "|('a', 'c', 'f')|[]                                                                |\n",
            "|('b', 'c', 'f')|[]                                                                |\n",
            "|('d',)         |[('a', 1.0), ('b', 1.0), ('e', 1.0)]                              |\n",
            "|('e',)         |[('a', 1.0), ('b', 1.0), ('d', 1.0)]                              |\n",
            "|('a', 'd')     |[('b', 1.0), ('e', 1.0)]                                          |\n",
            "|('a', 'e')     |[('b', 1.0), ('d', 1.0)]                                          |\n",
            "|('b', 'd')     |[('a', 1.0), ('e', 1.0)]                                          |\n",
            "|('b', 'e')     |[('a', 1.0), ('d', 1.0)]                                          |\n",
            "|('d', 'e')     |[('a', 1.0), ('b', 1.0)]                                          |\n",
            "|('a', 'b', 'd')|[]                                                                |\n",
            "|('a', 'b', 'e')|[]                                                                |\n",
            "|('a', 'd', 'e')|[]                                                                |\n",
            "|('b', 'd', 'e')|[]                                                                |\n",
            "+---------------+------------------------------------------------------------------+\n",
            "\n"
          ],
          "name": "stdout"
        }
      ]
    },
    {
      "cell_type": "markdown",
      "metadata": {
        "colab_type": "text",
        "id": "zKfTQs2U8q3f"
      },
      "source": [
        "## 3. Instacart dataset\n",
        "\n",
        "With your MBA algorithm ready to be used, now it is time to work on the real dataset. For this part of the TP, download the [instacart](https://www.instacart.com/datasets/grocery-shopping-2017) dataset and read its [description](https://gist.github.com/jeremystan/c3b39d947d9b88b3ccff3147dbcf6c6b) to understand how the dataset is structured. \n",
        "\n",
        "Before applying the developed algorithm on the instacart dataset, you must first filter the transactions to be in the same format defined by your algorithm (one transaction per row). To manipulate the data, we can use Spark's data frame and the SQL module presented in Section 1.\n",
        "\n",
        "The following code cell uses the Spark SQL module to read the orders from the ``order_products__train.csv`` and the detailed information from ``orders.csv`` and ``products.csv`` to construct a data frame that contains a list of all products ever purchased by each user."
      ]
    },
    {
      "cell_type": "code",
      "metadata": {
        "colab_type": "code",
        "id": "J7Sel7Mm8q3f",
        "outputId": "827ca73d-fef8-4c3b-9b5f-9e7d55cf3885",
        "colab": {
          "base_uri": "https://localhost:8080/",
          "height": 816
        }
      },
      "source": [
        "instacart = PATH+\"instacart\"\n",
        "\n",
        "df_order_prod = spark.read.csv(instacart+'/order_products__train.csv', header=True, sep=',', inferSchema=True)\n",
        "print('order_products__train.csv')\n",
        "df_order_prod.show(5)\n",
        "\n",
        "df_orders = spark.read.csv(instacart+'/orders.csv', header=True, sep=',', inferSchema=True)\n",
        "print('orders.csv')\n",
        "df_orders.show(5)\n",
        "\n",
        "df_products = spark.read.csv(instacart+'/products.csv', header=True, sep=',', inferSchema=True)\n",
        "print('products.csv')\n",
        "df_products.show(5)\n",
        "\n",
        "\n",
        "\"\"\"\n",
        "List of products ever purchased by each user\n",
        "\"\"\"\n",
        "# USING SQL\n",
        "df_order_prod.createOrReplaceTempView(\"order_prod\") # creates table 'order_prod'\n",
        "df_orders.createOrReplaceTempView(\"orders\") # creates table 'orders'\n",
        "df_products.createOrReplaceTempView(\"products\") # creates table 'products'\n",
        "spark.sql('SELECT o.user_id, COLLECT_LIST(p.product_name) AS products' \n",
        "               ' FROM orders o '\n",
        "               ' INNER JOIN order_prod op ON op.order_id = o.order_id'\n",
        "               ' INNER JOIN products p    ON op.product_id = p.product_id'\n",
        "               ' GROUP BY user_id ORDER BY o.user_id').show(5, truncate=80)\n",
        "\n",
        "\n",
        "# USING DATAFRAME OPERATIONS\n",
        "# df_orders.join(df_order_prod, df_order_prod.order_id == df_orders.order_id, 'inner')\\\n",
        "# .join(df_products, df_products.product_id == df_order_prod.product_id, 'inner')\\\n",
        "# .groupBy(df_orders.user_id).agg(f.collect_list(df_products.product_name).alias('products'))\\\n",
        "# .orderBy(df_orders.user_id).show(5, truncate=80)"
      ],
      "execution_count": 12,
      "outputs": [
        {
          "output_type": "stream",
          "text": [
            "order_products__train.csv\n",
            "+--------+----------+-----------------+---------+\n",
            "|order_id|product_id|add_to_cart_order|reordered|\n",
            "+--------+----------+-----------------+---------+\n",
            "|       1|     49302|                1|        1|\n",
            "|       1|     11109|                2|        1|\n",
            "|       1|     10246|                3|        0|\n",
            "|       1|     49683|                4|        0|\n",
            "|       1|     43633|                5|        1|\n",
            "+--------+----------+-----------------+---------+\n",
            "only showing top 5 rows\n",
            "\n",
            "orders.csv\n",
            "+--------+-------+--------+------------+---------+-----------------+----------------------+\n",
            "|order_id|user_id|eval_set|order_number|order_dow|order_hour_of_day|days_since_prior_order|\n",
            "+--------+-------+--------+------------+---------+-----------------+----------------------+\n",
            "| 2539329|      1|   prior|           1|        2|                8|                  null|\n",
            "| 2398795|      1|   prior|           2|        3|                7|                  15.0|\n",
            "|  473747|      1|   prior|           3|        3|               12|                  21.0|\n",
            "| 2254736|      1|   prior|           4|        4|                7|                  29.0|\n",
            "|  431534|      1|   prior|           5|        4|               15|                  28.0|\n",
            "+--------+-------+--------+------------+---------+-----------------+----------------------+\n",
            "only showing top 5 rows\n",
            "\n",
            "products.csv\n",
            "+----------+--------------------+--------+-------------+\n",
            "|product_id|        product_name|aisle_id|department_id|\n",
            "+----------+--------------------+--------+-------------+\n",
            "|         1|Chocolate Sandwic...|      61|           19|\n",
            "|         2|    All-Seasons Salt|     104|           13|\n",
            "|         3|Robust Golden Uns...|      94|            7|\n",
            "|         4|Smart Ones Classi...|      38|            1|\n",
            "|         5|Green Chile Anyti...|       5|           13|\n",
            "+----------+--------------------+--------+-------------+\n",
            "only showing top 5 rows\n",
            "\n",
            "+-------+--------------------------------------------------------------------------------+\n",
            "|user_id|                                                                        products|\n",
            "+-------+--------------------------------------------------------------------------------+\n",
            "|      1|[Soda, Organic String Cheese, 0% Greek Strained Yogurt, XL Pick-A-Size Paper ...|\n",
            "|      2|[Organic Roasted Turkey Breast, Gluten Free Whole Grain Bread, Plantain Chips...|\n",
            "|      5|[Organic Raw Agave Nectar, Organic Large Extra Fancy Fuji Apple, Sharp Chedda...|\n",
            "|      7|[Panama Peach Antioxidant Infusion, Antioxidant Infusions Beverage Malawi Man...|\n",
            "|      8|[Shallot, Organic SprouTofu Silken Tofu, Nutritional Yeast Seasoning, Organic...|\n",
            "+-------+--------------------------------------------------------------------------------+\n",
            "only showing top 5 rows\n",
            "\n"
          ],
          "name": "stdout"
        }
      ]
    },
    {
      "cell_type": "markdown",
      "metadata": {
        "colab_type": "text",
        "id": "HEPhyKpC8q3h"
      },
      "source": [
        "### 3.1 Business Insights (25 points) \n",
        "\n",
        "Now, you are the data scientist. Considering only the orders of ``order_products__train.csv``, use of Spark SQL module, performing with SQL or data frame, to answer the following questions:\n",
        "\n",
        "1. What are the top 10 products which have the highest probability of being reordered? Consider only products purchased at least 40 times for this task.\n",
        "2. What are the top 3 most purchased products of each department?\n",
        "4. What is the average basket size for each day of the week?\n",
        "- Hint: use a barplot to visualize your results\n",
        "\n",
        "**The output of those questions must contain the products' NAME, not their ID.**"
      ]
    },
    {
      "cell_type": "code",
      "metadata": {
        "colab_type": "code",
        "id": "yZqlCqg-8FMR",
        "outputId": "55d662af-6bbc-4ad5-bd10-78059c1ceb19",
        "colab": {
          "base_uri": "https://localhost:8080/",
          "height": 272
        }
      },
      "source": [
        "top_10 = spark.sql(\"\"\" SELECT p1.product_name, \n",
        "                              total_order, \n",
        "                              nbr_reorder / total_order AS proba_reorder \n",
        "                      FROM (SELECT product_id, \n",
        "                                    COUNT(product_id) AS total_order, \n",
        "                                    SUM(reordered) AS nbr_reorder \n",
        "                      FROM order_prod \n",
        "                      GROUP BY product_id) AS p2\n",
        "                      INNER JOIN products AS p1 ON p1.product_id = p2.product_id \n",
        "                      WHERE total_order >= 40 \n",
        "                      ORDER BY proba_reorder DESC LIMIT 10 \"\"\")\n",
        "\n",
        "top_10.show(15, truncate=80)"
      ],
      "execution_count": 13,
      "outputs": [
        {
          "output_type": "stream",
          "text": [
            "+-------------------------------------+-----------+------------------+\n",
            "|                         product_name|total_order|     proba_reorder|\n",
            "+-------------------------------------+-----------+------------------+\n",
            "|                 2% Lactose Free Milk|         92|0.9347826086956522|\n",
            "|                 Organic Low Fat Milk|        368|0.9130434782608695|\n",
            "|            100% Florida Orange Juice|         59|0.8983050847457628|\n",
            "|Original Sparkling Seltzer Water Cans|         45|0.8888888888888888|\n",
            "|              Organic Spelt Tortillas|         81|0.8888888888888888|\n",
            "|                               Banana|      18726|0.8841717398269785|\n",
            "|                   Petit Suisse Fruit|        120|0.8833333333333333|\n",
            "|               Organic Lowfat 1% Milk|        483|0.8819875776397516|\n",
            "|  Organic Lactose Free 1% Lowfat Milk|        269|0.8810408921933085|\n",
            "|                       1% Lowfat Milk|        461|0.8785249457700651|\n",
            "+-------------------------------------+-----------+------------------+\n",
            "\n"
          ],
          "name": "stdout"
        }
      ]
    },
    {
      "cell_type": "code",
      "metadata": {
        "id": "w26Q5Ybq_FLq",
        "colab_type": "code",
        "colab": {
          "base_uri": "https://localhost:8080/",
          "height": 295
        },
        "outputId": "b4dd38a2-7a1d-4a2f-dfd1-fd5aca11216a"
      },
      "source": [
        "# Visualization\n",
        "\n",
        "import matplotlib.pyplot as plt\n",
        "\n",
        "prod_names = top_10.select(\"product_name\").rdd.flatMap(lambda x: x).collect()\n",
        "prob_reord = top_10.select(\"proba_reorder\").rdd.flatMap(lambda x: x).collect()\n",
        "\n",
        "tmp = range(len(prod_names))\n",
        "\n",
        "plt.barh(tmp,prob_reord )\n",
        "plt.yticks(tmp, prod_names)\n",
        "plt.gca().invert_yaxis()\n",
        "plt.xlabel(\"Product names\")\n",
        "plt.ylabel(\"Probability of being reordered\")\n",
        "plt.title(\"The top 10 products purchased at least 40 times and which have the highest probability of being reordered\")\n",
        "plt.show()"
      ],
      "execution_count": 14,
      "outputs": [
        {
          "output_type": "display_data",
          "data": {
            "image/png": "[encoded data removed]",
            "text/plain": [
              "<Figure size 432x288 with 1 Axes>"
            ]
          },
          "metadata": {
            "tags": [],
            "needs_background": "light"
          }
        }
      ]
    },
    {
      "cell_type": "code",
      "metadata": {
        "colab_type": "code",
        "id": "oBGauYYWRzEI",
        "outputId": "0e88db26-f942-4768-edc3-c7852b7fce2b",
        "colab": {
          "base_uri": "https://localhost:8080/",
          "height": 1000
        }
      },
      "source": [
        "top_3 = spark.sql(\"\"\" SELECT * \n",
        "                      FROM   (SELECT department_id, \n",
        "                                    product_name, \n",
        "                                    total_order, \n",
        "                                    Row_number() \n",
        "                                      OVER ( \n",
        "                                        partition BY department_id \n",
        "                                        ORDER BY total_order DESC ) AS rowno \n",
        "                              FROM   (SELECT p.department_id, \n",
        "                                            op.product_id, \n",
        "                                            p.product_name, \n",
        "                                            Count(op.product_id) AS total_order \n",
        "                                      FROM   order_prod op \n",
        "                                            INNER JOIN products p \n",
        "                                                    ON op.product_id = p.product_id \n",
        "                                      GROUP  BY p.department_id, \n",
        "                                                op.product_id, \n",
        "                                                p.product_name))  \n",
        "                      WHERE  rowno <= 3 \n",
        "                      ORDER  BY int(department_id) ASC, \n",
        "                                total_order DESC \"\"\")\n",
        "\n",
        "top_3.show(150, truncate=80)"
      ],
      "execution_count": 15,
      "outputs": [
        {
          "output_type": "stream",
          "text": [
            "+-------------+-----------------------------------------------------+-----------+-----+\n",
            "|department_id|                                         product_name|total_order|rowno|\n",
            "+-------------+-----------------------------------------------------+-----------+-----+\n",
            "|            1|                                          Blueberries|       2323|    1|\n",
            "|            1|                             Organic Broccoli Florets|       1361|    2|\n",
            "|            1|                           Organic Whole Strawberries|       1213|    3|\n",
            "|            2|                                Roasted Almond Butter|        174|    1|\n",
            "|            2|              Light CocoWhip! Coconut Whipped Topping|         86|    2|\n",
            "|            2|                             Roasted Unsalted Almonds|         62|    3|\n",
            "|            3|                               100% Whole Wheat Bread|       2298|    1|\n",
            "|            3|                   Organic Bread with 21 Whole Grains|        938|    2|\n",
            "|            3|                                      Sourdough Bread|        738|    3|\n",
            "|            4|                                               Banana|      18726|    1|\n",
            "|            4|                               Bag of Organic Bananas|      15480|    2|\n",
            "|            4|                                 Organic Strawberries|      10894|    3|\n",
            "|            5|                                      Sauvignon Blanc|        295|    1|\n",
            "|            5|                                   Cabernet Sauvignon|        237|    2|\n",
            "|            5|                                                 Beer|        224|    3|\n",
            "|            6|                                       Taco Seasoning|        405|    1|\n",
            "|            6|              Organic Sea Salt Roasted Seaweed Snacks|        345|    2|\n",
            "|            6|            New Mexico Taco Skillet Sauce For Chicken|        224|    3|\n",
            "|            7|                           Sparkling Water Grapefruit|       3359|    1|\n",
            "|            7|                                         Spring Water|       2225|    2|\n",
            "|            7|                                 Lime Sparkling Water|       1966|    3|\n",
            "|            8|Double Duty Advanced Odor Control Clumping Cat Litter|         84|    1|\n",
            "|            8|                          24/7 Performance Cat Litter|         76|    2|\n",
            "|            8|                            Instant Action Cat Litter|         73|    3|\n",
            "|            9|                     Organic Tomato Basil Pasta Sauce|        772|    1|\n",
            "|            9|                                       Marinara Sauce|        754|    2|\n",
            "|            9|                                          Basil Pesto|        699|    3|\n",
            "|           10|                                          Dried Mango|        446|    1|\n",
            "|           10|                                  Organic Rolled Oats|        259|    2|\n",
            "|           10|                           Organic Black Mission Figs|        125|    3|\n",
            "|           11|                                         Cotton Swabs|        258|    2|\n",
            "|           11|                                   Lavender Hand Soap|        258|    1|\n",
            "|           11|                              Lemon Verbena Hand Soap|        191|    3|\n",
            "|           12|                    Boneless Skinless Chicken Breasts|       2088|    1|\n",
            "|           12|                                 Ground Turkey Breast|        958|    2|\n",
            "|           12|                     Boneless Skinless Chicken Breast|        943|    3|\n",
            "|           13|                               Extra Virgin Olive Oil|       2068|    1|\n",
            "|           13|                                 Creamy Peanut Butter|        991|    2|\n",
            "|           13|                                 Creamy Almond Butter|        850|    3|\n",
            "|           14|                                   Honey Nut Cheerios|       1218|    1|\n",
            "|           14|                    Organic Old Fashioned Rolled Oats|        747|    2|\n",
            "|           14|                                   Raisin Bran Cereal|        600|    3|\n",
            "|           15|                                  Organic Black Beans|       1576|    1|\n",
            "|           15|                            No Salt Added Black Beans|       1250|    2|\n",
            "|           15|                               Organic Garbanzo Beans|       1141|    3|\n",
            "|           16|                                   Organic Whole Milk|       4908|    1|\n",
            "|           16|                                  Organic Half & Half|       2646|    2|\n",
            "|           16|                                          Half & Half|       2424|    3|\n",
            "|           17|                           100% Recycled Paper Towels|       1183|    1|\n",
            "|           17|                         Sustainably Soft Bath Tissue|        821|    2|\n",
            "|           17|                                        Aluminum Foil|        407|    3|\n",
            "|           18|     Baby Food Stage 2 Blueberry Pear & Purple Carrot|        310|    1|\n",
            "|           18|                Spinach Peas & Pear Stage 2 Baby Food|        268|    2|\n",
            "|           18|                Gluten Free SpongeBob Spinach Littles|        259|    3|\n",
            "|           19|                 Lightly Salted Baked Snap Pea Crisps|        991|    1|\n",
            "|           19|  Pretzel Crisps Original Deli Style Pretzel Crackers|        753|    2|\n",
            "|           19|                                  Sea Salt Pita Chips|        707|    3|\n",
            "|           20|                                      Original Hummus|       2858|    1|\n",
            "|           20|                                 Uncured Genoa Salami|       1788|    2|\n",
            "|           20|                              Organic Extra Firm Tofu|       1186|    3|\n",
            "|           21|                            Organic Riced Cauliflower|        823|    1|\n",
            "|           21|                          Peanut Butter Ice Cream Cup|        261|    2|\n",
            "|           21|                                 Organic Celery Bunch|        200|    3|\n",
            "+-------------+-----------------------------------------------------+-----------+-----+\n",
            "\n"
          ],
          "name": "stdout"
        }
      ]
    },
    {
      "cell_type": "code",
      "metadata": {
        "id": "Kj-7KfVV_FLv",
        "colab_type": "code",
        "colab": {
          "base_uri": "https://localhost:8080/",
          "height": 856
        },
        "outputId": "c365586a-11d6-4726-eb4e-444587b9b244"
      },
      "source": [
        "# Visualization\n",
        "\n",
        "prod_names = top_3.select(\"product_name\").rdd.flatMap(lambda x: x).collect()\n",
        "total_order = top_3.select(\"total_order\").rdd.flatMap(lambda x: x).collect()\n",
        "department = top_3.select(\"department_id\").rdd.flatMap(lambda x: x).collect()\n",
        "\n",
        "tmp = range(len(prod_names))\n",
        "fig = plt.figure(figsize=(10,14))\n",
        "labels = [a +' / Dep. #' + str(b) for a, b in zip(prod_names, department)]\n",
        "plt.barh(tmp,total_order)\n",
        "plt.yticks(tmp, labels)\n",
        "plt.gca().invert_yaxis()\n",
        "plt.ylabel(\"Product names\")\n",
        "plt.xlabel(\"Total orders\")\n",
        "plt.title(\"The top 3 most purchased products of each department\")\n",
        "plt.plot()"
      ],
      "execution_count": 16,
      "outputs": [
        {
          "output_type": "execute_result",
          "data": {
            "text/plain": [
              "[]"
            ]
          },
          "metadata": {
            "tags": []
          },
          "execution_count": 16
        },
        {
          "output_type": "display_data",
          "data": {
            "image/png": "[encoded data removed]",
            "text/plain": [
              "<Figure size 720x1008 with 1 Axes>"
            ]
          },
          "metadata": {
            "tags": [],
            "needs_background": "light"
          }
        }
      ]
    },
    {
      "cell_type": "code",
      "metadata": {
        "colab_type": "code",
        "id": "IX3CHbE4HjYL",
        "outputId": "320cd738-82d6-48c5-9469-d4d6f9cd299b",
        "colab": {
          "base_uri": "https://localhost:8080/",
          "height": 221
        }
      },
      "source": [
        "avg_dow = spark.sql(\"\"\" SELECT order_dow, \n",
        "                               Avg(basket_size) AS avg_basket_size \n",
        "                        FROM   (SELECT order_id, \n",
        "                                      Count(product_id) AS basket_size \n",
        "                                FROM   order_prod \n",
        "                                GROUP  BY order_id) AS orders_baskets \n",
        "                              INNER JOIN orders AS o \n",
        "                                      ON o.order_id = orders_baskets.order_id \n",
        "                        GROUP  BY order_dow \n",
        "                        ORDER  BY order_dow \"\"\")\n",
        "\n",
        "avg_dow.show(150, truncate=80)"
      ],
      "execution_count": 17,
      "outputs": [
        {
          "output_type": "stream",
          "text": [
            "+---------+------------------+\n",
            "|order_dow|   avg_basket_size|\n",
            "+---------+------------------+\n",
            "|        0|11.797778991443655|\n",
            "|        1|10.470618137454249|\n",
            "|        2|  9.96103976673491|\n",
            "|        3|  9.84133358832154|\n",
            "|        4| 9.742527727301209|\n",
            "|        5|10.163736642537057|\n",
            "|        6|10.966562615734617|\n",
            "+---------+------------------+\n",
            "\n"
          ],
          "name": "stdout"
        }
      ]
    },
    {
      "cell_type": "code",
      "metadata": {
        "colab_type": "code",
        "id": "4cxi2TRFcpYr",
        "outputId": "be25bbfc-a466-415a-8adf-d1502df541ac",
        "colab": {
          "base_uri": "https://localhost:8080/",
          "height": 295
        }
      },
      "source": [
        "# Visualization\n",
        "\n",
        "order_dow = avg_dow.select(\"order_dow\").rdd.flatMap(lambda x: x).collect()\n",
        "avg_basket_size  = avg_dow.select(\"avg_basket_size\").rdd.flatMap(lambda x: x).collect()\n",
        "\n",
        "tmp = range(len(order_dow))\n",
        "\n",
        "plt.barh(tmp,avg_basket_size )\n",
        "plt.yticks(tmp, order_dow)\n",
        "plt.gca().invert_yaxis()\n",
        "plt.xlabel(\"Average basket size\")\n",
        "plt.ylabel(\"Order day of the week\")\n",
        "plt.title(\"The average basket size for each day of the week\")\n",
        "plt.show()"
      ],
      "execution_count": 18,
      "outputs": [
        {
          "output_type": "display_data",
          "data": {
            "image/png": "[encoded data removed]",
            "text/plain": [
              "<Figure size 432x288 with 1 Axes>"
            ]
          },
          "metadata": {
            "tags": [],
            "needs_background": "light"
          }
        }
      ]
    },
    {
      "cell_type": "markdown",
      "metadata": {
        "colab_type": "text",
        "id": "LMoLK30G8q3m"
      },
      "source": [
        "### 3.2 Run MBA for the training set (15 points)\n",
        "\n",
        "Using the orders from the ``order_products__train.csv``, create a data frame where each row contains the column “transaction” with the list of purchased products, similarly to the toy dataset. In sequence, run the MBA algorithm for this set of transactions. \n",
        "\n",
        "- You must report the time spent to perform this task.\n",
        "- Output must contain the products' name."
      ]
    },
    {
      "cell_type": "code",
      "metadata": {
        "colab_type": "code",
        "id": "2uTc29bYXi6O",
        "outputId": "7849d0eb-3f83-4fb4-9c2b-8815fa669cfc",
        "colab": {
          "base_uri": "https://localhost:8080/",
          "height": 238
        }
      },
      "source": [
        "%%time\n",
        "\"\"\"\n",
        "Create a query to create and struct the transactions\n",
        "\"\"\"\n",
        "transactions_df = spark.sql(\"\"\"SELECT o.order_id, concat_ws(\";\", collect_set(p.product_name)) AS transaction \n",
        "                          FROM order_prod as o\n",
        "                          INNER JOIN products p ON p.product_id = o.product_id\n",
        "                          GROUP BY o.order_id\"\"\")\n",
        "\n",
        "transactions_df.show(5, truncate=100)"
      ],
      "execution_count": 19,
      "outputs": [
        {
          "output_type": "stream",
          "text": [
            "+--------+----------------------------------------------------------------------------------------------------+\n",
            "|order_id|                                                                                         transaction|\n",
            "+--------+----------------------------------------------------------------------------------------------------+\n",
            "|    1342|Raw Shrimp;Seedless Cucumbers;Versatile Stain Remover;Organic Strawberries;Organic Mandarins;Chic...|\n",
            "|    1591|Cracked Wheat;Strawberry Rhubarb Yoghurt;Organic Bunny Fruit Snacks Berry Patch;Goodness Grapenes...|\n",
            "|    4519|                                  Beet Apple Carrot Lemon Ginger Organic Cold Pressed Juice Beverage|\n",
            "|    4935|                                                                                               Vodka|\n",
            "|    6357|Globe Eggplant;Panko Bread Crumbs;Fresh Mozzarella Ball;Grated Parmesan;Gala Apples;Italian Pasta...|\n",
            "+--------+----------------------------------------------------------------------------------------------------+\n",
            "only showing top 5 rows\n",
            "\n",
            "CPU times: user 1.41 ms, sys: 1.11 ms, total: 2.52 ms\n",
            "Wall time: 4.94 s\n"
          ],
          "name": "stdout"
        }
      ]
    },
    {
      "cell_type": "code",
      "metadata": {
        "colab_type": "code",
        "id": "yGQ2ZJTP8q3q",
        "outputId": "1190b4a5-a3af-463e-c751-7f5662406b8f",
        "colab": {
          "base_uri": "https://localhost:8080/",
          "height": 646
        }
      },
      "source": [
        "%%time\n",
        "\"\"\"\n",
        "Run the MBA algorithm and show the first 5 association rules\n",
        "\"\"\"\n",
        "transactions_rdd = transactions_df.rdd\n",
        "patterns_rdd = transactions_rdd.flatMap(map_to_patterns)\n",
        "\n",
        "# Output as dataframe\n",
        "patterns_rdd.map(format_tuples).toDF(['patterns', 'occurrences']).show(1,truncate=80)\n",
        "\n",
        "combined_patterns_rdd = patterns_rdd.reduceByKey(reduce_patterns)\n",
        "\n",
        "# Output as dataframe\n",
        "combined_patterns_rdd.map(format_tuples).toDF(['patterns', 'combined_occurrences']).show(1,truncate=80)\n",
        "\n",
        "subpatterns_rdd = combined_patterns_rdd.flatMap(map_to_subpatterns)\n",
        "\n",
        "# Output as dataframe\n",
        "subpatterns_rdd.map(format_tuples).toDF(['subpatterns', 'rules']).show(1,truncate=80)\n",
        "\n",
        "combined_rules = subpatterns_rdd.groupByKey().map(list_map)\n",
        "\n",
        "# Output as dataframe\n",
        "combined_rules.map(format_tuples).toDF(['subpatterns', 'combined_rules']).show(1,truncate=80)\n",
        "\n",
        "assoc_rules = combined_rules.flatMap(map_to_assoc_rules)\n",
        "\n",
        "# Output as dataframe\n",
        "assoc_rules.map(format_tuples).toDF(['patterns', 'association_rules']).show(1,truncate=80)"
      ],
      "execution_count": 20,
      "outputs": [
        {
          "output_type": "stream",
          "text": [
            "+---------------------------+-----------+\n",
            "|                   patterns|occurrences|\n",
            "+---------------------------+-----------+\n",
            "|('Bag of Organic Bananas',)|          1|\n",
            "+---------------------------+-----------+\n",
            "only showing top 1 row\n",
            "\n",
            "+-------------------------------------------------------------------+--------------------+\n",
            "|                                                           patterns|combined_occurrences|\n",
            "+-------------------------------------------------------------------+--------------------+\n",
            "|('Organic Mandarins', 'Organic Strawberries', 'Seedless Cucumbers')|                   4|\n",
            "+-------------------------------------------------------------------+--------------------+\n",
            "only showing top 1 row\n",
            "\n",
            "+-------------------------------------------------------------------+---------+\n",
            "|                                                        subpatterns|    rules|\n",
            "+-------------------------------------------------------------------+---------+\n",
            "|('Organic Mandarins', 'Organic Strawberries', 'Seedless Cucumbers')|(None, 4)|\n",
            "+-------------------------------------------------------------------+---------+\n",
            "only showing top 1 row\n",
            "\n",
            "+-------------------------------------------------------------------+--------------+\n",
            "|                                                        subpatterns|combined_rules|\n",
            "+-------------------------------------------------------------------+--------------+\n",
            "|('Organic Mandarins', 'Organic Strawberries', 'Seedless Cucumbers')|   [(None, 4)]|\n",
            "+-------------------------------------------------------------------+--------------+\n",
            "only showing top 1 row\n",
            "\n",
            "+-------------------------------------------------------------------+-----------------+\n",
            "|                                                           patterns|association_rules|\n",
            "+-------------------------------------------------------------------+-----------------+\n",
            "|('Organic Mandarins', 'Organic Strawberries', 'Seedless Cucumbers')|               []|\n",
            "+-------------------------------------------------------------------+-----------------+\n",
            "only showing top 1 row\n",
            "\n",
            "CPU times: user 601 ms, sys: 88.2 ms, total: 689 ms\n",
            "Wall time: 1h 4min 49s\n"
          ],
          "name": "stdout"
        }
      ]
    },
    {
      "cell_type": "code",
      "metadata": {
        "colab_type": "code",
        "id": "qqUhHssJeQvl",
        "outputId": "677f5369-8e06-407f-8093-c4550579afc2",
        "colab": {
          "base_uri": "https://localhost:8080/",
          "height": 238
        }
      },
      "source": [
        "%%time\n",
        "assoc_rules.map(format_tuples).toDF(['patterns', 'association_rules']).show(5,truncate=80)"
      ],
      "execution_count": 21,
      "outputs": [
        {
          "output_type": "stream",
          "text": [
            "+--------------------------------------------------------------------------------+-----------------+\n",
            "|                                                                        patterns|association_rules|\n",
            "+--------------------------------------------------------------------------------+-----------------+\n",
            "|             ('Organic Mandarins', 'Organic Strawberries', 'Seedless Cucumbers')|               []|\n",
            "|                     ('Banana', 'Cracked Wheat', 'Green Machine Juice Smoothie')|               []|\n",
            "|                        ('Banana', 'Lemon Yogurt', 'Oven Roasted Turkey Breast')|               []|\n",
            "|('Buttermilk Waffles', 'Chewy 25% Low Sugar Chocolate Chip Granola', 'Honey G...|               []|\n",
            "|                  ('Buttermilk Waffles', 'Garlic', 'Oven Roasted Turkey Breast')|               []|\n",
            "+--------------------------------------------------------------------------------+-----------------+\n",
            "only showing top 5 rows\n",
            "\n",
            "CPU times: user 21.4 ms, sys: 497 µs, total: 21.9 ms\n",
            "Wall time: 8.97 s\n"
          ],
          "name": "stdout"
        }
      ]
    },
    {
      "cell_type": "code",
      "metadata": {
        "id": "G1PnT4L3_9Ey",
        "colab_type": "code",
        "colab": {
          "base_uri": "https://localhost:8080/",
          "height": 598
        },
        "outputId": "f8a27ce5-46d2-49d2-b40d-3b4628118210"
      },
      "source": [
        "%%time\n",
        "# showing more and more\n",
        "assoc_rules.map(format_tuples).toDF(['patterns', 'association_rules']).show(25,truncate=80)"
      ],
      "execution_count": 22,
      "outputs": [
        {
          "output_type": "stream",
          "text": [
            "+--------------------------------------------------------------------------------+--------------------------------------------------------------------------------+\n",
            "|                                                                        patterns|                                                               association_rules|\n",
            "+--------------------------------------------------------------------------------+--------------------------------------------------------------------------------+\n",
            "|             ('Organic Mandarins', 'Organic Strawberries', 'Seedless Cucumbers')|                                                                              []|\n",
            "|                     ('Banana', 'Cracked Wheat', 'Green Machine Juice Smoothie')|                                                                              []|\n",
            "|                        ('Banana', 'Lemon Yogurt', 'Oven Roasted Turkey Breast')|                                                                              []|\n",
            "|('Buttermilk Waffles', 'Chewy 25% Low Sugar Chocolate Chip Granola', 'Honey G...|                                                                              []|\n",
            "|                  ('Buttermilk Waffles', 'Garlic', 'Oven Roasted Turkey Breast')|                                                                              []|\n",
            "|('Buttermilk Waffles', 'Granny Smith Apples', 'Lower Sugar Instant Oatmeal  V...|                                                                              []|\n",
            "|('Chewy 25% Low Sugar Chocolate Chip Granola', 'Goldfish Pretzel Baked Snack ...|                                                                              []|\n",
            "|('Cinnamon Multigrain Cereal', 'Green Machine Juice Smoothie', 'Original Patt...|                                                                              []|\n",
            "|                          ('Coconut Dreams Cookies', 'Cracked Wheat', 'Spinach')|                                                                              []|\n",
            "|       ('Coconut Dreams Cookies', 'Cracked Wheat', 'Strawberry Banana Smoothie')|                                                                              []|\n",
            "|   ('Coconut Dreams Cookies', 'Garlic', 'Goldfish Pretzel Baked Snack Crackers')|                                                                              []|\n",
            "|                             ('Coconut Dreams Cookies', 'Nutty Bars', 'Spinach')|                                                                              []|\n",
            "|('Coconut Dreams Cookies', 'Organic Greek Whole Milk Blended Vanilla Bean Yog...|                                                                              []|\n",
            "|                       ('Cracked Wheat', 'Lemon Yogurt', 'Pure Vanilla Extract')|                                                                              []|\n",
            "|('Goldfish Pretzel Baked Snack Crackers', 'Granny Smith Apples', 'Medium Scar...|                                                                              []|\n",
            "|('Goldfish Pretzel Baked Snack Crackers', 'Original Whole Grain Chips', 'Oven...|                                                                              []|\n",
            "|                 ('Granny Smith Apples', 'Lemon Yogurt', 'Pure Vanilla Extract')|                                                                              []|\n",
            "|('Green Machine Juice Smoothie', 'Lower Sugar Instant Oatmeal  Variety', 'Str...|                                                                              []|\n",
            "|                   ('Honey Graham Snacks', 'Nutty Bars', 'Uncured Genoa Salami')|                                                                              []|\n",
            "|('Lemon Yogurt', 'Natural Vanilla Ice Cream', 'Organic Greek Whole Milk Blend...|                                                                              []|\n",
            "|('Lemon Yogurt', 'Organic Greek Whole Milk Blended Vanilla Bean Yogurt', 'Str...|                                                                              []|\n",
            "|('Lower Sugar Instant Oatmeal  Variety', 'Strawberry Banana Smoothie', 'Uncur...|                                                                              []|\n",
            "|('Natural Vanilla Ice Cream', 'Organic Bunny Fruit Snacks Berry Patch', 'Stra...|                                                                              []|\n",
            "|                                         ('Coconut Flour', 'Organic Spring Mix')|[('Organic Basil', 0.5), ('Organic Tomato Sauce', 0.5), ('Light Brown Sugar',...|\n",
            "|                                                ('Coconut Flour', 'Roma Tomato')|[('Organic Tapioca Flour', 1.0), ('Organic Baby Spinach', 1.0), ('Limes', 1.0...|\n",
            "+--------------------------------------------------------------------------------+--------------------------------------------------------------------------------+\n",
            "only showing top 25 rows\n",
            "\n",
            "CPU times: user 20.7 ms, sys: 1.75 ms, total: 22.5 ms\n",
            "Wall time: 9.08 s\n"
          ],
          "name": "stdout"
        }
      ]
    },
    {
      "cell_type": "markdown",
      "metadata": {
        "colab_type": "text",
        "id": "WyNBcK5f8q3s"
      },
      "source": [
        "# 3.3 Run MBA for the whole dataset (15 points)\n",
        "\n",
        "As you probably noticed, even for a not so large data set (the training file has only 131K orders), the MBA algorithm is computationally expensive. For that reason, this time, we will repeat the process, but now using the Google Cloud Platform (GCP) to create a large computer cluster. All the instructions for creating a computing cluster with spark and how to submit a job will be explained in both sessions of the laboratory. In any case, you should read the instructions given in the ``Instruction_GCP.pdf``.\n",
        "\n",
        "This time, we will work with the ``order_products__prior.csv`` file, which contains more than 3M orders.\n",
        "\n",
        "**EXPECTED OUTPUT**\n",
        "\n",
        "After you ran the MBA for the larger collection of orders, randomly select ONE product purchased in ``order_products__prior`` and print the association rules (product name and association value) of this product, i.e., when the product is alone in the basket. The output should be formatted in a table, where each row containing the information of one associated product.\n",
        "\n",
        "- Print both ID and Name of the random selected product.\n",
        "- Report the execution time."
      ]
    },
    {
      "cell_type": "code",
      "metadata": {
        "colab_type": "code",
        "outputId": "4538399d-29b1-43fb-dbb8-da59a8803882",
        "id": "jSsUkrUH_FMA",
        "colab": {
          "base_uri": "https://localhost:8080/",
          "height": 243
        }
      },
      "source": [
        "%%time\n",
        "\"\"\"\n",
        "Create a query to create and struct the transactions\n",
        "\"\"\"\n",
        "transactions_df = spark.sql(\"\"\"SELECT o.order_id, concat_ws(\";\", collect_set(p.product_name)) AS transaction \n",
        "                          FROM order_prod as o\n",
        "                          INNER JOIN products p ON p.product_id = o.product_id\n",
        "                          GROUP BY o.order_id\"\"\")\n",
        "\n",
        "transactions_df.show(5, truncate=100)"
      ],
      "execution_count": 0,
      "outputs": [
        {
          "output_type": "stream",
          "text": [
            "+--------+----------------------------------------------------------------------------------------------------+\n",
            "|order_id|                                                                                         transaction|\n",
            "+--------+----------------------------------------------------------------------------------------------------+\n",
            "|    1342|Raw Shrimp;Seedless Cucumbers;Versatile Stain Remover;Organic Strawberries;Organic Mandarins;Chic...|\n",
            "|    1591|Cracked Wheat;Strawberry Rhubarb Yoghurt;Organic Bunny Fruit Snacks Berry Patch;Goodness Grapenes...|\n",
            "|    4519|                                  Beet Apple Carrot Lemon Ginger Organic Cold Pressed Juice Beverage|\n",
            "|    4935|                                                                                               Vodka|\n",
            "|    6357|Globe Eggplant;Panko Bread Crumbs;Fresh Mozzarella Ball;Grated Parmesan;Gala Apples;Italian Pasta...|\n",
            "+--------+----------------------------------------------------------------------------------------------------+\n",
            "only showing top 5 rows\n",
            "\n",
            "CPU times: user 2.53 ms, sys: 410 µs, total: 2.94 ms\n",
            "Wall time: 1.6 s\n"
          ],
          "name": "stdout"
        }
      ]
    },
    {
      "cell_type": "code",
      "metadata": {
        "colab_type": "code",
        "outputId": "75419805-3907-4e8c-fbcc-aed12f08768c",
        "id": "8NI5nfzw_FMC",
        "colab": {
          "base_uri": "https://localhost:8080/",
          "height": 660
        }
      },
      "source": [
        "%%time\n",
        "\"\"\"\n",
        "Run the MBA algorithm and show the first 5 association rules\n",
        "\"\"\"\n",
        "transactions_rdd = transactions_df.rdd\n",
        "patterns_rdd = transactions_rdd.flatMap(map_to_patterns)\n",
        "\n",
        "# Output as dataframe\n",
        "patterns_rdd.map(format_tuples).toDF(['patterns', 'occurrences']).show(5,truncate=80)\n",
        "\n",
        "combined_patterns_rdd = patterns_rdd.reduceByKey(reduce_patterns)\n",
        "\n",
        "# Output as dataframe\n",
        "combined_patterns_rdd.map(format_tuples).toDF(['patterns', 'combined_occurrences']).show(5,truncate=80)\n",
        "\n",
        "subpatterns_rdd = combined_patterns_rdd.flatMap(map_to_subpatterns)\n",
        "\n",
        "# Output as dataframe\n",
        "subpatterns_rdd.map(format_tuples).toDF(['subpatterns', 'rules']).show(5,truncate=80)\n",
        "\n",
        "combined_rules = subpatterns_rdd.groupByKey().map(list_map)\n",
        "\n",
        "# Output as dataframe\n",
        "combined_rules.map(format_tuples).toDF(['subpatterns', 'combined_rules']).show(5,truncate=80)\n",
        "\n",
        "assoc_rules = combined_rules.flatMap(map_to_assoc_rules)\n",
        "\n",
        "# Output as dataframe\n",
        "assoc_rules.map(format_tuples).toDF(['patterns', 'association_rules']).show(5,truncate=80)"
      ],
      "execution_count": 0,
      "outputs": [
        {
          "output_type": "stream",
          "text": [
            "+---------------------------+-----------+\n",
            "|                   patterns|occurrences|\n",
            "+---------------------------+-----------+\n",
            "|('Bag of Organic Bananas',)|          1|\n",
            "| ('Chicken Apple Sausage',)|          1|\n",
            "|     ('Organic Mandarins',)|          1|\n",
            "|  ('Organic Strawberries',)|          1|\n",
            "|      ('Pink Lady Apples',)|          1|\n",
            "+---------------------------+-----------+\n",
            "only showing top 5 rows\n",
            "\n",
            "+--------------------------------------------------------------------------------+--------------------+\n",
            "|                                                                        patterns|combined_occurrences|\n",
            "+--------------------------------------------------------------------------------+--------------------+\n",
            "|                                   ('Baby Arugula', 'Organic Red Radish, Bunch')|                  22|\n",
            "|                                      ('Basil Pesto', 'Organic Brussel Sprouts')|                   5|\n",
            "|                        ('Baby Arugula', 'Organic Hass Avocado', 'Spring Water')|                   2|\n",
            "|('Calming Lavender Body Wash', 'Natural Premium Coconut Water', 'Organic Butt...|                   1|\n",
            "|     ('Calming Lavender Body Wash', 'Organic Brussel Sprouts', 'Organic Garlic')|                   1|\n",
            "+--------------------------------------------------------------------------------+--------------------+\n",
            "only showing top 5 rows\n",
            "\n",
            "+---------------------------------------------------------------+---------------------------------------+\n",
            "|                                                    subpatterns|                                  rules|\n",
            "+---------------------------------------------------------------+---------------------------------------+\n",
            "|('Domestic Baby Seedless Cucumbers', 'Milk Chocolate Pretzels')|                              (None, 1)|\n",
            "|                                   ('Milk Chocolate Pretzels',)|('Domestic Baby Seedless Cucumbers', 1)|\n",
            "|                          ('Domestic Baby Seedless Cucumbers',)|         ('Milk Chocolate Pretzels', 1)|\n",
            "|    ('Banana', 'Milk Chocolate Pretzels', 'Organic Fuji Apple')|                              (None, 2)|\n",
            "|              ('Milk Chocolate Pretzels', 'Organic Fuji Apple')|                          ('Banana', 2)|\n",
            "+---------------------------------------------------------------+---------------------------------------+\n",
            "only showing top 5 rows\n",
            "\n",
            "+--------------------------------------------------------------------------------+--------------------------------------------------------------------------------+\n",
            "|                                                                     subpatterns|                                                                  combined_rules|\n",
            "+--------------------------------------------------------------------------------+--------------------------------------------------------------------------------+\n",
            "|                                   ('Baby Arugula', 'Organic Red Radish, Bunch')|[(None, 22), ('Red Raspberries', 4), ('Organic Large Green Asparagus', 1), ('...|\n",
            "|                                      ('Basil Pesto', 'Organic Brussel Sprouts')|[(None, 5), ('Pure Vanilla Extract Madagascar Bourbon', 1), ('Lightly Salted ...|\n",
            "|                        ('Baby Arugula', 'Organic Hass Avocado', 'Spring Water')|                                                                     [(None, 2)]|\n",
            "|('Calming Lavender Body Wash', 'Natural Premium Coconut Water', 'Organic Butt...|                                                                     [(None, 1)]|\n",
            "|     ('Calming Lavender Body Wash', 'Organic Brussel Sprouts', 'Organic Garlic')|                                                                     [(None, 1)]|\n",
            "+--------------------------------------------------------------------------------+--------------------------------------------------------------------------------+\n",
            "only showing top 5 rows\n",
            "\n",
            "+----------------------------------------------------------------+--------------------------------------------------------------------------------+\n",
            "|                                                        patterns|                                                               association_rules|\n",
            "+----------------------------------------------------------------+--------------------------------------------------------------------------------+\n",
            "|           ('Organic Raspberries', 'Organic Whole Strawberries')|[('Dark Chocolate with Whole Hazelnuts', 0.0045662100456621), ('Pineapple Chu...|\n",
            "|('Stage 2 Spinach, Apple & Kale', 'Vanilla Whey Protein Powder')|[('Organic Raspberries', 1.0), ('Stage 1 - Just Prunes', 1.0), ('Eco Sensitiv...|\n",
            "|                    ('Ground Turkey Breast', 'Jalapeno Peppers')|[('Shredded Mozzarella', 0.045454545454545456), ('Organic Raw Unfiltered Appl...|\n",
            "|                  ('Bag of Organic Bananas', 'Mandarin Oranges')|[('Half & Half', 0.05970149253731343), ('Blueberries', 0.029850746268656716),...|\n",
            "|            ('Cinnamon Rolls with Icing', 'Shredded Mozzarella')|[('Lightly Salted Baked Snap Pea Crisps', 0.08333333333333333), ('Organic Red...|\n",
            "+----------------------------------------------------------------+--------------------------------------------------------------------------------+\n",
            "only showing top 5 rows\n",
            "\n",
            "CPU times: user 138 ms, sys: 49.1 ms, total: 187 ms\n",
            "Wall time: 3min 53s\n"
          ],
          "name": "stdout"
        }
      ]
    },
    {
      "cell_type": "markdown",
      "metadata": {
        "id": "tpvLq5Vp_FMF",
        "colab_type": "text"
      },
      "source": [
        "##### For ONE random product"
      ]
    },
    {
      "cell_type": "code",
      "metadata": {
        "id": "fU-cxPop_FMG",
        "colab_type": "code",
        "colab": {},
        "outputId": "46edcab5-4e2e-404e-dea9-e2322f51228e"
      },
      "source": [
        "%%time\n",
        "from random import randint \n",
        "\n",
        "ord_df = spark.sql(\"\"\"SELECT o.order_id, p.product_id, concat_ws(\";\", collect_set(p.product_name)) AS transaction \n",
        "                          FROM order_prod as o\n",
        "                          INNER JOIN products p ON p.product_id = o.product_id\n",
        "                          GROUP BY o.order_id, p.product_id\n",
        "                          ORDER BY Rand() LIMIT 1\"\"\")\n",
        "\n",
        "ord_df.show(5, truncate=100)"
      ],
      "execution_count": 0,
      "outputs": [
        {
          "output_type": "stream",
          "text": [
            "+--------+----------+-----------+\n",
            "|order_id|product_id|transaction|\n",
            "+--------+----------+-----------+\n",
            "| 1827399|     29506| Pita Bread|\n",
            "+--------+----------+-----------+\n",
            "\n",
            "CPU times: user 3.7 ms, sys: 0 ns, total: 3.7 ms\n",
            "Wall time: 5.72 s\n"
          ],
          "name": "stdout"
        }
      ]
    },
    {
      "cell_type": "code",
      "metadata": {
        "id": "pkY0I83s_FMJ",
        "colab_type": "code",
        "colab": {},
        "outputId": "cadaa7c2-21f9-4974-e88b-ca20aa05f916"
      },
      "source": [
        "%%time\n",
        "prod_name = ord_df.select('transaction').collect()[0].transaction\n",
        "print(prod_name)"
      ],
      "execution_count": 0,
      "outputs": [
        {
          "output_type": "stream",
          "text": [
            "Pita Bread\n",
            "CPU times: user 5.49 ms, sys: 929 µs, total: 6.42 ms\n",
            "Wall time: 3.74 s\n"
          ],
          "name": "stdout"
        }
      ]
    },
    {
      "cell_type": "code",
      "metadata": {
        "id": "s9nNrsd6_FML",
        "colab_type": "code",
        "colab": {},
        "outputId": "12d6a579-96cf-4802-fda1-aa32ea28496a"
      },
      "source": [
        "%%time\n",
        "x = assoc_rules.filter(lambda x:len(x[0])==1 and x[0][0]==prod_name).map(format_tuples).toDF(['patterns', 'association_rules'])\n",
        "x.show(truncate=300)"
      ],
      "execution_count": 0,
      "outputs": [
        {
          "output_type": "stream",
          "text": [
            "+---------------+------------------------------------------------------------------------------------------------------------------------------------------------------------------------------------------------------------------------------------------------------------------------------------------------------------+\n",
            "|       patterns|                                                                                                                                                                                                                                                                                           association_rules|\n",
            "+---------------+------------------------------------------------------------------------------------------------------------------------------------------------------------------------------------------------------------------------------------------------------------------------------------------------------------+\n",
            "|('Pita Bread',)|[(\"Major Dickason's Blend Ground Coffee Dark Roast\", 0.010416666666666666), ('Lime Sparkling Water', 0.010416666666666666), ('Plain Bagels', 0.020833333333333332), ('Organic Tomato Sauce', 0.020833333333333332), ('Island Teriyaki', 0.010416666666666666), ('Large Lemon', 0.10416666666666667), ('Ai...|\n",
            "+---------------+------------------------------------------------------------------------------------------------------------------------------------------------------------------------------------------------------------------------------------------------------------------------------------------------------------+\n",
            "\n",
            "CPU times: user 77.9 ms, sys: 37.8 ms, total: 116 ms\n",
            "Wall time: 2min 1s\n"
          ],
          "name": "stdout"
        }
      ]
    }
  ]
}